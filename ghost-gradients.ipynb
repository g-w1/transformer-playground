{
 "cells": [
  {
   "cell_type": "code",
   "execution_count": 1,
   "metadata": {},
   "outputs": [
    {
     "name": "stdout",
     "output_type": "stream",
     "text": [
      "Cloning into 'dictionary_learning'...\n",
      "remote: Enumerating objects: 157, done.\u001b[K\n",
      "remote: Counting objects: 100% (23/23), done.\u001b[K\n",
      "remote: Compressing objects: 100% (15/15), done.\u001b[K\n",
      "remote: Total 157 (delta 12), reused 17 (delta 8), pack-reused 134\u001b[K\n",
      "Receiving objects: 100% (157/157), 263.47 KiB | 4.70 MiB/s, done.\n",
      "Resolving deltas: 100% (86/86), done.\n",
      "Collecting nnsight\n",
      "  Using cached nnsight-0.1.15-py3-none-any.whl (3.5 MB)\n",
      "Collecting pydantic>=2.4.0\n",
      "  Using cached pydantic-2.5.3-py3-none-any.whl (381 kB)\n",
      "Requirement already satisfied: transformers in /home/jacob/dev/transformer-playground/.direnv/python-3.10/lib/python3.10/site-packages (from nnsight->-r requirements.txt (line 1)) (4.35.2)\n",
      "Collecting python-socketio[client]\n",
      "  Using cached python_socketio-5.11.0-py3-none-any.whl (75 kB)\n",
      "Collecting sentencepiece\n",
      "  Using cached sentencepiece-0.1.99-cp310-cp310-manylinux_2_17_x86_64.manylinux2014_x86_64.whl (1.3 MB)\n",
      "Collecting diffusers\n",
      "  Using cached diffusers-0.25.1-py3-none-any.whl (1.8 MB)\n",
      "Requirement already satisfied: protobuf in /home/jacob/dev/transformer-playground/.direnv/python-3.10/lib/python3.10/site-packages (from nnsight->-r requirements.txt (line 1)) (4.25.1)\n",
      "Requirement already satisfied: einops in /home/jacob/dev/transformer-playground/.direnv/python-3.10/lib/python3.10/site-packages (from nnsight->-r requirements.txt (line 1)) (0.7.0)\n",
      "Requirement already satisfied: torch>=2.1.0 in /home/jacob/dev/transformer-playground/.direnv/python-3.10/lib/python3.10/site-packages (from nnsight->-r requirements.txt (line 1)) (2.1.1)\n",
      "Requirement already satisfied: accelerate in /home/jacob/dev/transformer-playground/.direnv/python-3.10/lib/python3.10/site-packages (from nnsight->-r requirements.txt (line 1)) (0.24.1)\n",
      "Collecting torchvision\n",
      "  Using cached torchvision-0.16.2-cp310-cp310-manylinux1_x86_64.whl (6.8 MB)\n",
      "Requirement already satisfied: tokenizers>=0.13.0 in /home/jacob/dev/transformer-playground/.direnv/python-3.10/lib/python3.10/site-packages (from nnsight->-r requirements.txt (line 1)) (0.15.0)\n",
      "Collecting annotated-types>=0.4.0\n",
      "  Using cached annotated_types-0.6.0-py3-none-any.whl (12 kB)\n",
      "Requirement already satisfied: typing-extensions>=4.6.1 in /home/jacob/dev/transformer-playground/.direnv/python-3.10/lib/python3.10/site-packages (from pydantic>=2.4.0->nnsight->-r requirements.txt (line 1)) (4.8.0)\n",
      "Collecting pydantic-core==2.14.6\n",
      "  Using cached pydantic_core-2.14.6-cp310-cp310-manylinux_2_17_x86_64.manylinux2014_x86_64.whl (2.1 MB)\n",
      "Requirement already satisfied: huggingface_hub<1.0,>=0.16.4 in /home/jacob/dev/transformer-playground/.direnv/python-3.10/lib/python3.10/site-packages (from tokenizers>=0.13.0->nnsight->-r requirements.txt (line 1)) (0.19.4)\n",
      "Requirement already satisfied: nvidia-cuda-cupti-cu12==12.1.105 in /home/jacob/dev/transformer-playground/.direnv/python-3.10/lib/python3.10/site-packages (from torch>=2.1.0->nnsight->-r requirements.txt (line 1)) (12.1.105)\n",
      "Requirement already satisfied: filelock in /home/jacob/dev/transformer-playground/.direnv/python-3.10/lib/python3.10/site-packages (from torch>=2.1.0->nnsight->-r requirements.txt (line 1)) (3.13.1)\n",
      "Requirement already satisfied: jinja2 in /home/jacob/dev/transformer-playground/.direnv/python-3.10/lib/python3.10/site-packages (from torch>=2.1.0->nnsight->-r requirements.txt (line 1)) (3.1.2)\n",
      "Requirement already satisfied: fsspec in /home/jacob/dev/transformer-playground/.direnv/python-3.10/lib/python3.10/site-packages (from torch>=2.1.0->nnsight->-r requirements.txt (line 1)) (2023.10.0)\n",
      "Requirement already satisfied: nvidia-cufft-cu12==11.0.2.54 in /home/jacob/dev/transformer-playground/.direnv/python-3.10/lib/python3.10/site-packages (from torch>=2.1.0->nnsight->-r requirements.txt (line 1)) (11.0.2.54)\n",
      "Requirement already satisfied: networkx in /home/jacob/dev/transformer-playground/.direnv/python-3.10/lib/python3.10/site-packages (from torch>=2.1.0->nnsight->-r requirements.txt (line 1)) (3.2.1)\n",
      "Requirement already satisfied: nvidia-cusparse-cu12==12.1.0.106 in /home/jacob/dev/transformer-playground/.direnv/python-3.10/lib/python3.10/site-packages (from torch>=2.1.0->nnsight->-r requirements.txt (line 1)) (12.1.0.106)\n",
      "Requirement already satisfied: nvidia-nvtx-cu12==12.1.105 in /home/jacob/dev/transformer-playground/.direnv/python-3.10/lib/python3.10/site-packages (from torch>=2.1.0->nnsight->-r requirements.txt (line 1)) (12.1.105)\n",
      "Requirement already satisfied: nvidia-curand-cu12==10.3.2.106 in /home/jacob/dev/transformer-playground/.direnv/python-3.10/lib/python3.10/site-packages (from torch>=2.1.0->nnsight->-r requirements.txt (line 1)) (10.3.2.106)\n",
      "Requirement already satisfied: nvidia-cusolver-cu12==11.4.5.107 in /home/jacob/dev/transformer-playground/.direnv/python-3.10/lib/python3.10/site-packages (from torch>=2.1.0->nnsight->-r requirements.txt (line 1)) (11.4.5.107)\n",
      "Requirement already satisfied: triton==2.1.0 in /home/jacob/dev/transformer-playground/.direnv/python-3.10/lib/python3.10/site-packages (from torch>=2.1.0->nnsight->-r requirements.txt (line 1)) (2.1.0)\n",
      "Requirement already satisfied: sympy in /home/jacob/dev/transformer-playground/.direnv/python-3.10/lib/python3.10/site-packages (from torch>=2.1.0->nnsight->-r requirements.txt (line 1)) (1.12)\n",
      "Requirement already satisfied: nvidia-cublas-cu12==12.1.3.1 in /home/jacob/dev/transformer-playground/.direnv/python-3.10/lib/python3.10/site-packages (from torch>=2.1.0->nnsight->-r requirements.txt (line 1)) (12.1.3.1)\n",
      "Requirement already satisfied: nvidia-cuda-runtime-cu12==12.1.105 in /home/jacob/dev/transformer-playground/.direnv/python-3.10/lib/python3.10/site-packages (from torch>=2.1.0->nnsight->-r requirements.txt (line 1)) (12.1.105)\n",
      "Requirement already satisfied: nvidia-cudnn-cu12==8.9.2.26 in /home/jacob/dev/transformer-playground/.direnv/python-3.10/lib/python3.10/site-packages (from torch>=2.1.0->nnsight->-r requirements.txt (line 1)) (8.9.2.26)\n",
      "Requirement already satisfied: nvidia-cuda-nvrtc-cu12==12.1.105 in /home/jacob/dev/transformer-playground/.direnv/python-3.10/lib/python3.10/site-packages (from torch>=2.1.0->nnsight->-r requirements.txt (line 1)) (12.1.105)\n",
      "Requirement already satisfied: nvidia-nccl-cu12==2.18.1 in /home/jacob/dev/transformer-playground/.direnv/python-3.10/lib/python3.10/site-packages (from torch>=2.1.0->nnsight->-r requirements.txt (line 1)) (2.18.1)\n",
      "Requirement already satisfied: nvidia-nvjitlink-cu12 in /home/jacob/dev/transformer-playground/.direnv/python-3.10/lib/python3.10/site-packages (from nvidia-cusolver-cu12==11.4.5.107->torch>=2.1.0->nnsight->-r requirements.txt (line 1)) (12.3.101)\n",
      "Requirement already satisfied: numpy>=1.17 in /home/jacob/dev/transformer-playground/.direnv/python-3.10/lib/python3.10/site-packages (from accelerate->nnsight->-r requirements.txt (line 1)) (1.26.2)\n",
      "Requirement already satisfied: psutil in /home/jacob/dev/transformer-playground/.direnv/python-3.10/lib/python3.10/site-packages (from accelerate->nnsight->-r requirements.txt (line 1)) (5.9.6)\n",
      "Requirement already satisfied: pyyaml in /home/jacob/dev/transformer-playground/.direnv/python-3.10/lib/python3.10/site-packages (from accelerate->nnsight->-r requirements.txt (line 1)) (6.0.1)\n",
      "Requirement already satisfied: packaging>=20.0 in /home/jacob/dev/transformer-playground/.direnv/python-3.10/lib/python3.10/site-packages (from accelerate->nnsight->-r requirements.txt (line 1)) (23.2)\n",
      "Collecting importlib-metadata\n",
      "  Using cached importlib_metadata-7.0.1-py3-none-any.whl (23 kB)\n",
      "Requirement already satisfied: safetensors>=0.3.1 in /home/jacob/dev/transformer-playground/.direnv/python-3.10/lib/python3.10/site-packages (from diffusers->nnsight->-r requirements.txt (line 1)) (0.4.0)\n",
      "Collecting huggingface_hub<1.0,>=0.16.4\n",
      "  Using cached huggingface_hub-0.20.3-py3-none-any.whl (330 kB)\n",
      "Requirement already satisfied: regex!=2019.12.17 in /home/jacob/dev/transformer-playground/.direnv/python-3.10/lib/python3.10/site-packages (from diffusers->nnsight->-r requirements.txt (line 1)) (2023.10.3)\n",
      "Requirement already satisfied: requests in /home/jacob/dev/transformer-playground/.direnv/python-3.10/lib/python3.10/site-packages (from diffusers->nnsight->-r requirements.txt (line 1)) (2.31.0)\n",
      "Collecting Pillow\n",
      "  Using cached pillow-10.2.0-cp310-cp310-manylinux_2_28_x86_64.whl (4.5 MB)\n",
      "Collecting bidict>=0.21.0\n",
      "  Using cached bidict-0.22.1-py3-none-any.whl (35 kB)\n",
      "Collecting python-engineio>=4.8.0\n",
      "  Using cached python_engineio-4.8.2-py3-none-any.whl (57 kB)\n",
      "Collecting websocket-client>=0.54.0\n",
      "  Using cached websocket_client-1.7.0-py3-none-any.whl (58 kB)\n",
      "Collecting torch>=2.1.0\n",
      "  Using cached torch-2.1.2-cp310-cp310-manylinux1_x86_64.whl (670.2 MB)\n",
      "Requirement already satisfied: tqdm>=4.27 in /home/jacob/dev/transformer-playground/.direnv/python-3.10/lib/python3.10/site-packages (from transformers->nnsight->-r requirements.txt (line 1)) (4.66.1)\n",
      "Collecting simple-websocket>=0.10.0\n",
      "  Using cached simple_websocket-1.0.0-py3-none-any.whl (13 kB)\n",
      "Requirement already satisfied: charset-normalizer<4,>=2 in /home/jacob/dev/transformer-playground/.direnv/python-3.10/lib/python3.10/site-packages (from requests->diffusers->nnsight->-r requirements.txt (line 1)) (3.3.2)\n",
      "Requirement already satisfied: certifi>=2017.4.17 in /home/jacob/dev/transformer-playground/.direnv/python-3.10/lib/python3.10/site-packages (from requests->diffusers->nnsight->-r requirements.txt (line 1)) (2023.7.22)\n",
      "Requirement already satisfied: urllib3<3,>=1.21.1 in /home/jacob/dev/transformer-playground/.direnv/python-3.10/lib/python3.10/site-packages (from requests->diffusers->nnsight->-r requirements.txt (line 1)) (2.1.0)\n",
      "Requirement already satisfied: idna<4,>=2.5 in /home/jacob/dev/transformer-playground/.direnv/python-3.10/lib/python3.10/site-packages (from requests->diffusers->nnsight->-r requirements.txt (line 1)) (3.4)\n",
      "Collecting zipp>=0.5\n",
      "  Using cached zipp-3.17.0-py3-none-any.whl (7.4 kB)\n",
      "Requirement already satisfied: MarkupSafe>=2.0 in /home/jacob/dev/transformer-playground/.direnv/python-3.10/lib/python3.10/site-packages (from jinja2->torch>=2.1.0->nnsight->-r requirements.txt (line 1)) (2.1.3)\n",
      "Requirement already satisfied: mpmath>=0.19 in /home/jacob/dev/transformer-playground/.direnv/python-3.10/lib/python3.10/site-packages (from sympy->torch>=2.1.0->nnsight->-r requirements.txt (line 1)) (1.3.0)\n",
      "Collecting wsproto\n",
      "  Using cached wsproto-1.2.0-py3-none-any.whl (24 kB)\n",
      "Collecting h11<1,>=0.9.0\n",
      "  Using cached h11-0.14.0-py3-none-any.whl (58 kB)\n",
      "Installing collected packages: sentencepiece, zipp, websocket-client, pydantic-core, Pillow, h11, bidict, annotated-types, wsproto, pydantic, importlib-metadata, huggingface_hub, torch, simple-websocket, diffusers, torchvision, python-engineio, python-socketio, nnsight\n",
      "  Attempting uninstall: huggingface_hub\n",
      "    Found existing installation: huggingface-hub 0.19.4\n",
      "    Uninstalling huggingface-hub-0.19.4:\n",
      "      Successfully uninstalled huggingface-hub-0.19.4\n",
      "  Attempting uninstall: torch\n",
      "    Found existing installation: torch 2.1.1\n",
      "    Uninstalling torch-2.1.1:\n",
      "      Successfully uninstalled torch-2.1.1\n",
      "Successfully installed Pillow-10.2.0 annotated-types-0.6.0 bidict-0.22.1 diffusers-0.25.1 h11-0.14.0 huggingface_hub-0.20.3 importlib-metadata-7.0.1 nnsight-0.1.15 pydantic-2.5.3 pydantic-core-2.14.6 python-engineio-4.8.2 python-socketio-5.11.0 sentencepiece-0.1.99 simple-websocket-1.0.0 torch-2.1.2 torchvision-0.16.2 websocket-client-1.7.0 wsproto-1.2.0 zipp-3.17.0\n",
      "\n",
      "\u001b[1m[\u001b[0m\u001b[34;49mnotice\u001b[0m\u001b[1;39;49m]\u001b[0m\u001b[39;49m A new release of pip is available: \u001b[0m\u001b[31;49m23.0.1\u001b[0m\u001b[39;49m -> \u001b[0m\u001b[32;49m23.3.2\u001b[0m\n",
      "\u001b[1m[\u001b[0m\u001b[34;49mnotice\u001b[0m\u001b[1;39;49m]\u001b[0m\u001b[39;49m To update, run: \u001b[0m\u001b[32;49mpip install --upgrade pip\u001b[0m\n",
      "Collecting zstandard\n",
      "  Downloading zstandard-0.22.0-cp310-cp310-manylinux_2_17_x86_64.manylinux2014_x86_64.whl (5.4 MB)\n",
      "\u001b[2K     \u001b[38;2;114;156;31m━━━━━━━━━━━━━━━━━━━━━━━━━━━━━━━━━━━━━━━━\u001b[0m \u001b[32m5.4/5.4 MB\u001b[0m \u001b[31m31.8 MB/s\u001b[0m eta \u001b[36m0:00:00\u001b[0m31m34.3 MB/s\u001b[0m eta \u001b[36m0:00:01\u001b[0m\n",
      "\u001b[?25hRequirement already satisfied: datasets in ./.direnv/python-3.10/lib/python3.10/site-packages (2.15.0)\n",
      "Requirement already satisfied: nnsight in ./.direnv/python-3.10/lib/python3.10/site-packages (0.1.15)\n",
      "Requirement already satisfied: numpy>=1.17 in ./.direnv/python-3.10/lib/python3.10/site-packages (from datasets) (1.26.2)\n",
      "Requirement already satisfied: dill<0.3.8,>=0.3.0 in ./.direnv/python-3.10/lib/python3.10/site-packages (from datasets) (0.3.7)\n",
      "Requirement already satisfied: pandas in ./.direnv/python-3.10/lib/python3.10/site-packages (from datasets) (2.1.3)\n",
      "Requirement already satisfied: pyarrow>=8.0.0 in ./.direnv/python-3.10/lib/python3.10/site-packages (from datasets) (14.0.1)\n",
      "Requirement already satisfied: pyarrow-hotfix in ./.direnv/python-3.10/lib/python3.10/site-packages (from datasets) (0.5)\n",
      "Requirement already satisfied: requests>=2.19.0 in ./.direnv/python-3.10/lib/python3.10/site-packages (from datasets) (2.31.0)\n",
      "Requirement already satisfied: fsspec[http]<=2023.10.0,>=2023.1.0 in ./.direnv/python-3.10/lib/python3.10/site-packages (from datasets) (2023.10.0)\n",
      "Requirement already satisfied: pyyaml>=5.1 in ./.direnv/python-3.10/lib/python3.10/site-packages (from datasets) (6.0.1)\n",
      "Requirement already satisfied: huggingface-hub>=0.18.0 in ./.direnv/python-3.10/lib/python3.10/site-packages (from datasets) (0.20.3)\n",
      "Requirement already satisfied: aiohttp in ./.direnv/python-3.10/lib/python3.10/site-packages (from datasets) (3.8.6)\n",
      "Requirement already satisfied: tqdm>=4.62.1 in ./.direnv/python-3.10/lib/python3.10/site-packages (from datasets) (4.66.1)\n",
      "Requirement already satisfied: packaging in ./.direnv/python-3.10/lib/python3.10/site-packages (from datasets) (23.2)\n",
      "Requirement already satisfied: xxhash in ./.direnv/python-3.10/lib/python3.10/site-packages (from datasets) (3.4.1)\n",
      "Requirement already satisfied: multiprocess in ./.direnv/python-3.10/lib/python3.10/site-packages (from datasets) (0.70.15)\n",
      "Requirement already satisfied: tokenizers>=0.13.0 in ./.direnv/python-3.10/lib/python3.10/site-packages (from nnsight) (0.15.0)\n",
      "Requirement already satisfied: transformers in ./.direnv/python-3.10/lib/python3.10/site-packages (from nnsight) (4.35.2)\n",
      "Requirement already satisfied: torchvision in ./.direnv/python-3.10/lib/python3.10/site-packages (from nnsight) (0.16.2)\n",
      "Requirement already satisfied: torch>=2.1.0 in ./.direnv/python-3.10/lib/python3.10/site-packages (from nnsight) (2.1.2)\n",
      "Requirement already satisfied: protobuf in ./.direnv/python-3.10/lib/python3.10/site-packages (from nnsight) (4.25.1)\n",
      "Requirement already satisfied: pydantic>=2.4.0 in ./.direnv/python-3.10/lib/python3.10/site-packages (from nnsight) (2.5.3)\n",
      "Requirement already satisfied: python-socketio[client] in ./.direnv/python-3.10/lib/python3.10/site-packages (from nnsight) (5.11.0)\n",
      "Requirement already satisfied: diffusers in ./.direnv/python-3.10/lib/python3.10/site-packages (from nnsight) (0.25.1)\n",
      "Requirement already satisfied: accelerate in ./.direnv/python-3.10/lib/python3.10/site-packages (from nnsight) (0.24.1)\n",
      "Requirement already satisfied: einops in ./.direnv/python-3.10/lib/python3.10/site-packages (from nnsight) (0.7.0)\n",
      "Requirement already satisfied: sentencepiece in ./.direnv/python-3.10/lib/python3.10/site-packages (from nnsight) (0.1.99)\n",
      "Requirement already satisfied: async-timeout<5.0,>=4.0.0a3 in ./.direnv/python-3.10/lib/python3.10/site-packages (from aiohttp->datasets) (4.0.3)\n",
      "Requirement already satisfied: attrs>=17.3.0 in ./.direnv/python-3.10/lib/python3.10/site-packages (from aiohttp->datasets) (23.1.0)\n",
      "Requirement already satisfied: multidict<7.0,>=4.5 in ./.direnv/python-3.10/lib/python3.10/site-packages (from aiohttp->datasets) (6.0.4)\n",
      "Requirement already satisfied: frozenlist>=1.1.1 in ./.direnv/python-3.10/lib/python3.10/site-packages (from aiohttp->datasets) (1.4.0)\n",
      "Requirement already satisfied: yarl<2.0,>=1.0 in ./.direnv/python-3.10/lib/python3.10/site-packages (from aiohttp->datasets) (1.9.2)\n",
      "Requirement already satisfied: charset-normalizer<4.0,>=2.0 in ./.direnv/python-3.10/lib/python3.10/site-packages (from aiohttp->datasets) (3.3.2)\n",
      "Requirement already satisfied: aiosignal>=1.1.2 in ./.direnv/python-3.10/lib/python3.10/site-packages (from aiohttp->datasets) (1.3.1)\n",
      "Requirement already satisfied: filelock in ./.direnv/python-3.10/lib/python3.10/site-packages (from huggingface-hub>=0.18.0->datasets) (3.13.1)\n",
      "Requirement already satisfied: typing-extensions>=3.7.4.3 in ./.direnv/python-3.10/lib/python3.10/site-packages (from huggingface-hub>=0.18.0->datasets) (4.8.0)\n",
      "Requirement already satisfied: pydantic-core==2.14.6 in ./.direnv/python-3.10/lib/python3.10/site-packages (from pydantic>=2.4.0->nnsight) (2.14.6)\n",
      "Requirement already satisfied: annotated-types>=0.4.0 in ./.direnv/python-3.10/lib/python3.10/site-packages (from pydantic>=2.4.0->nnsight) (0.6.0)\n",
      "Requirement already satisfied: certifi>=2017.4.17 in ./.direnv/python-3.10/lib/python3.10/site-packages (from requests>=2.19.0->datasets) (2023.7.22)\n",
      "Requirement already satisfied: urllib3<3,>=1.21.1 in ./.direnv/python-3.10/lib/python3.10/site-packages (from requests>=2.19.0->datasets) (2.1.0)\n",
      "Requirement already satisfied: idna<4,>=2.5 in ./.direnv/python-3.10/lib/python3.10/site-packages (from requests>=2.19.0->datasets) (3.4)\n",
      "Requirement already satisfied: triton==2.1.0 in ./.direnv/python-3.10/lib/python3.10/site-packages (from torch>=2.1.0->nnsight) (2.1.0)\n",
      "Requirement already satisfied: nvidia-cudnn-cu12==8.9.2.26 in ./.direnv/python-3.10/lib/python3.10/site-packages (from torch>=2.1.0->nnsight) (8.9.2.26)\n",
      "Requirement already satisfied: nvidia-cublas-cu12==12.1.3.1 in ./.direnv/python-3.10/lib/python3.10/site-packages (from torch>=2.1.0->nnsight) (12.1.3.1)\n",
      "Requirement already satisfied: nvidia-cusparse-cu12==12.1.0.106 in ./.direnv/python-3.10/lib/python3.10/site-packages (from torch>=2.1.0->nnsight) (12.1.0.106)\n",
      "Requirement already satisfied: sympy in ./.direnv/python-3.10/lib/python3.10/site-packages (from torch>=2.1.0->nnsight) (1.12)\n",
      "Requirement already satisfied: nvidia-nvtx-cu12==12.1.105 in ./.direnv/python-3.10/lib/python3.10/site-packages (from torch>=2.1.0->nnsight) (12.1.105)\n",
      "Requirement already satisfied: jinja2 in ./.direnv/python-3.10/lib/python3.10/site-packages (from torch>=2.1.0->nnsight) (3.1.2)\n",
      "Requirement already satisfied: nvidia-cuda-nvrtc-cu12==12.1.105 in ./.direnv/python-3.10/lib/python3.10/site-packages (from torch>=2.1.0->nnsight) (12.1.105)\n",
      "Requirement already satisfied: nvidia-curand-cu12==10.3.2.106 in ./.direnv/python-3.10/lib/python3.10/site-packages (from torch>=2.1.0->nnsight) (10.3.2.106)\n",
      "Requirement already satisfied: nvidia-cuda-runtime-cu12==12.1.105 in ./.direnv/python-3.10/lib/python3.10/site-packages (from torch>=2.1.0->nnsight) (12.1.105)\n",
      "Requirement already satisfied: networkx in ./.direnv/python-3.10/lib/python3.10/site-packages (from torch>=2.1.0->nnsight) (3.2.1)\n",
      "Requirement already satisfied: nvidia-cusolver-cu12==11.4.5.107 in ./.direnv/python-3.10/lib/python3.10/site-packages (from torch>=2.1.0->nnsight) (11.4.5.107)\n",
      "Requirement already satisfied: nvidia-cufft-cu12==11.0.2.54 in ./.direnv/python-3.10/lib/python3.10/site-packages (from torch>=2.1.0->nnsight) (11.0.2.54)\n",
      "Requirement already satisfied: nvidia-cuda-cupti-cu12==12.1.105 in ./.direnv/python-3.10/lib/python3.10/site-packages (from torch>=2.1.0->nnsight) (12.1.105)\n",
      "Requirement already satisfied: nvidia-nccl-cu12==2.18.1 in ./.direnv/python-3.10/lib/python3.10/site-packages (from torch>=2.1.0->nnsight) (2.18.1)\n",
      "Requirement already satisfied: nvidia-nvjitlink-cu12 in ./.direnv/python-3.10/lib/python3.10/site-packages (from nvidia-cusolver-cu12==11.4.5.107->torch>=2.1.0->nnsight) (12.3.101)\n",
      "Requirement already satisfied: psutil in ./.direnv/python-3.10/lib/python3.10/site-packages (from accelerate->nnsight) (5.9.6)\n",
      "Requirement already satisfied: regex!=2019.12.17 in ./.direnv/python-3.10/lib/python3.10/site-packages (from diffusers->nnsight) (2023.10.3)\n",
      "Requirement already satisfied: safetensors>=0.3.1 in ./.direnv/python-3.10/lib/python3.10/site-packages (from diffusers->nnsight) (0.4.0)\n",
      "Requirement already satisfied: importlib-metadata in ./.direnv/python-3.10/lib/python3.10/site-packages (from diffusers->nnsight) (7.0.1)\n",
      "Requirement already satisfied: Pillow in ./.direnv/python-3.10/lib/python3.10/site-packages (from diffusers->nnsight) (10.2.0)\n",
      "Requirement already satisfied: python-dateutil>=2.8.2 in ./.direnv/python-3.10/lib/python3.10/site-packages (from pandas->datasets) (2.8.2)\n",
      "Requirement already satisfied: tzdata>=2022.1 in ./.direnv/python-3.10/lib/python3.10/site-packages (from pandas->datasets) (2023.3)\n",
      "Requirement already satisfied: pytz>=2020.1 in ./.direnv/python-3.10/lib/python3.10/site-packages (from pandas->datasets) (2023.3.post1)\n",
      "Requirement already satisfied: python-engineio>=4.8.0 in ./.direnv/python-3.10/lib/python3.10/site-packages (from python-socketio[client]->nnsight) (4.8.2)\n",
      "Requirement already satisfied: bidict>=0.21.0 in ./.direnv/python-3.10/lib/python3.10/site-packages (from python-socketio[client]->nnsight) (0.22.1)\n",
      "Requirement already satisfied: websocket-client>=0.54.0 in ./.direnv/python-3.10/lib/python3.10/site-packages (from python-socketio[client]->nnsight) (1.7.0)\n",
      "Requirement already satisfied: six>=1.5 in ./.direnv/python-3.10/lib/python3.10/site-packages (from python-dateutil>=2.8.2->pandas->datasets) (1.16.0)\n",
      "Requirement already satisfied: simple-websocket>=0.10.0 in ./.direnv/python-3.10/lib/python3.10/site-packages (from python-engineio>=4.8.0->python-socketio[client]->nnsight) (1.0.0)\n",
      "Requirement already satisfied: zipp>=0.5 in ./.direnv/python-3.10/lib/python3.10/site-packages (from importlib-metadata->diffusers->nnsight) (3.17.0)\n",
      "Requirement already satisfied: MarkupSafe>=2.0 in ./.direnv/python-3.10/lib/python3.10/site-packages (from jinja2->torch>=2.1.0->nnsight) (2.1.3)\n",
      "Requirement already satisfied: mpmath>=0.19 in ./.direnv/python-3.10/lib/python3.10/site-packages (from sympy->torch>=2.1.0->nnsight) (1.3.0)\n",
      "Requirement already satisfied: wsproto in ./.direnv/python-3.10/lib/python3.10/site-packages (from simple-websocket>=0.10.0->python-engineio>=4.8.0->python-socketio[client]->nnsight) (1.2.0)\n",
      "Requirement already satisfied: h11<1,>=0.9.0 in ./.direnv/python-3.10/lib/python3.10/site-packages (from wsproto->simple-websocket>=0.10.0->python-engineio>=4.8.0->python-socketio[client]->nnsight) (0.14.0)\n",
      "Installing collected packages: zstandard\n",
      "Successfully installed zstandard-0.22.0\n",
      "\n",
      "\u001b[1m[\u001b[0m\u001b[34;49mnotice\u001b[0m\u001b[1;39;49m]\u001b[0m\u001b[39;49m A new release of pip is available: \u001b[0m\u001b[31;49m23.0.1\u001b[0m\u001b[39;49m -> \u001b[0m\u001b[32;49m23.3.2\u001b[0m\n",
      "\u001b[1m[\u001b[0m\u001b[34;49mnotice\u001b[0m\u001b[1;39;49m]\u001b[0m\u001b[39;49m To update, run: \u001b[0m\u001b[32;49mpip install --upgrade pip\u001b[0m\n",
      "Note: you may need to restart the kernel to use updated packages.\n"
     ]
    }
   ],
   "source": [
    "!git clone https://github.com/saprmarks/dictionary_learning\n",
    "!cd dictionary_learning && pip install -r requirements.txt\n",
    "%pip install zstandard datasets nnsight"
   ]
  },
  {
   "cell_type": "code",
   "execution_count": 2,
   "metadata": {},
   "outputs": [
    {
     "name": "stderr",
     "output_type": "stream",
     "text": [
      "/home/jacob/dev/transformer-playground/.direnv/python-3.10/lib/python3.10/site-packages/tqdm/auto.py:21: TqdmWarning: IProgress not found. Please update jupyter and ipywidgets. See https://ipywidgets.readthedocs.io/en/stable/user_install.html\n",
      "  from .autonotebook import tqdm as notebook_tqdm\n",
      "Downloading readme: 100%|██████████| 432/432 [00:00<00:00, 4.03MB/s]\n",
      "Downloading data: 100%|██████████| 11.4M/11.4M [00:01<00:00, 10.0MB/s]\n",
      "Downloading data: 100%|██████████| 226M/226M [00:15<00:00, 14.5MB/s]]\n",
      "Downloading data: 100%|██████████| 226M/226M [00:16<00:00, 14.1MB/s]\n",
      "Downloading data: 100%|██████████| 226M/226M [00:14<00:00, 15.1MB/s]\n",
      "Downloading data: 100%|██████████| 226M/226M [00:16<00:00, 13.5MB/s]\n",
      "Downloading data: 100%|██████████| 226M/226M [00:18<00:00, 12.1MB/s]\n",
      "Downloading data files: 100%|██████████| 2/2 [01:23<00:00, 41.66s/it]\n",
      "Extracting data files: 100%|██████████| 2/2 [00:00<00:00, 166.16it/s]\n",
      "Generating validation split: 100%|██████████| 27516/27516 [00:00<00:00, 193360.12 examples/s]\n",
      "Generating train split: 100%|██████████| 2705118/2705118 [00:05<00:00, 500906.48 examples/s]\n"
     ]
    },
    {
     "data": {
      "text/plain": [
       "DatasetDict({\n",
       "    validation: Dataset({\n",
       "        features: ['story'],\n",
       "        num_rows: 27516\n",
       "    })\n",
       "    train: Dataset({\n",
       "        features: ['story'],\n",
       "        num_rows: 2705118\n",
       "    })\n",
       "})"
      ]
     },
     "execution_count": 2,
     "metadata": {},
     "output_type": "execute_result"
    }
   ],
   "source": [
    "from datasets import load_dataset\n",
    "\n",
    "dataset = load_dataset(\"jbrinkma/tinystories-v2-clean\")\n",
    "dataset"
   ]
  },
  {
   "cell_type": "code",
   "execution_count": 8,
   "metadata": {},
   "outputs": [
    {
     "data": {
      "text/plain": [
       "'Sam and Lily are friends. They like to play in the park. One day, they see a big dog. The dog is brown and shiny. He has a collar with a tag. The tag says \"Copper\".\\n\"Look, Lily, a dog!\" Sam says. \"He is so pretty. Can we pet him?\"\\n\"I don\\'t know, Sam,\" Lily says. \"Maybe he is not friendly. Maybe he will bite us.\"\\nSam and Lily are scared. They want to run away. But Copper is not a bad dog. He is a good dog. He is a dependable dog. He likes children. He wags his tail and barks softly.\\n\"Hello, Copper,\" a voice says. \"Are you making new friends?\"\\nSam and Lily turn around. They see a man. The man is Copper\\'s owner. He smiles at them.\\n\"Don\\'t be afraid,\" the man says. \"Copper is very gentle. He loves to be petted. Do you want to say hello to him?\"\\nSam and Lily nod. They walk slowly to Copper. They touch his fur. It is soft and warm. Copper licks their hands. He is happy.\\n\"Wow, he is so nice,\" Sam says. \"Can we play with him?\"\\n\"Sure, you can,\" the man says. \"But only if your parents say it\\'s okay. Where are they?\"\\nSam and Lily point to the bench. Their parents are sitting there. They are watching them.\\n\"Can we, Mommy? Can we, Daddy?\" Sam and Lily ask.\\nTheir parents nod. They are glad that Sam and Lily have found a new friend.\\n\"Okay, but be careful,\" they say.\\nSam and Lily smile. They run and play with Copper. They throw a ball and he fetches it. They hug him and he snuggles them. They have a lot of fun.\\nCopper is a good dog. He is a dependable dog. He is their friend.'"
      ]
     },
     "execution_count": 8,
     "metadata": {},
     "output_type": "execute_result"
    }
   ],
   "source": [
    "train_data = dataset['train']['story']\n",
    "train_data_iter = iter(train_data)"
   ]
  },
  {
   "cell_type": "code",
   "execution_count": 9,
   "metadata": {},
   "outputs": [
    {
     "name": "stderr",
     "output_type": "stream",
     "text": [
      "0it [00:00, ?it/s]You're using a LlamaTokenizerFast tokenizer. Please note that with a fast tokenizer, using the `__call__` method is faster than using a method to encode the text followed by a call to the `pad` method to get a padded encoding.\n",
      "pytorch_model.bin: 100%|██████████| 1.21M/1.21M [00:00<00:00, 26.7MB/s]\n",
      "2it [01:23, 34.24s/it]"
     ]
    },
    {
     "name": "stdout",
     "output_type": "stream",
     "text": [
      "step 0 MSE loss: 0.12227676063776016, sparsity loss: 6.593033790588379\n"
     ]
    },
    {
     "name": "stderr",
     "output_type": "stream",
     "text": [
      "1002it [06:19,  7.80it/s]"
     ]
    },
    {
     "name": "stdout",
     "output_type": "stream",
     "text": [
      "step 1000 MSE loss: 0.0026439388748258352, sparsity loss: 4.406581878662109\n"
     ]
    },
    {
     "name": "stderr",
     "output_type": "stream",
     "text": [
      "1247it [07:30,  2.77it/s]\n"
     ]
    },
    {
     "ename": "KeyboardInterrupt",
     "evalue": "",
     "output_type": "error",
     "traceback": [
      "\u001b[0;31m---------------------------------------------------------------------------\u001b[0m",
      "\u001b[0;31mKeyboardInterrupt\u001b[0m                         Traceback (most recent call last)",
      "Cell \u001b[0;32mIn[9], line 20\u001b[0m\n\u001b[1;32m     12\u001b[0m buffer \u001b[39m=\u001b[39m ActivationBuffer(\n\u001b[1;32m     13\u001b[0m     train_data_iter,\n\u001b[1;32m     14\u001b[0m     model,\n\u001b[1;32m     15\u001b[0m     submodule,\n\u001b[1;32m     16\u001b[0m     out_feats\u001b[39m=\u001b[39mactivation_dim, \u001b[39m# output dimension of the model component\u001b[39;00m\n\u001b[1;32m     17\u001b[0m ) \u001b[39m# buffer will return batches of tensors of dimension = submodule's output dimension\u001b[39;00m\n\u001b[1;32m     19\u001b[0m \u001b[39m# train the sparse autoencoder (SAE)\u001b[39;00m\n\u001b[0;32m---> 20\u001b[0m ae \u001b[39m=\u001b[39m trainSAE(\n\u001b[1;32m     21\u001b[0m     buffer,\n\u001b[1;32m     22\u001b[0m     activation_dim,\n\u001b[1;32m     23\u001b[0m     dictionary_size,\n\u001b[1;32m     24\u001b[0m     lr\u001b[39m=\u001b[39;49m\u001b[39m3e-4\u001b[39;49m,\n\u001b[1;32m     25\u001b[0m     sparsity_penalty\u001b[39m=\u001b[39;49m\u001b[39m1e-3\u001b[39;49m,\n\u001b[1;32m     26\u001b[0m )\n",
      "File \u001b[0;32m~/dev/transformer-playground/dictionary_learning/training.py:137\u001b[0m, in \u001b[0;36mtrainSAE\u001b[0;34m(activations, activation_dim, dictionary_size, lr, sparsity_penalty, entropy, steps, warmup_steps, resample_steps, save_steps, save_dir, log_steps, device)\u001b[0m\n\u001b[1;32m    134\u001b[0m         \u001b[39mreturn\u001b[39;00m \u001b[39m1.\u001b[39m\n\u001b[1;32m    135\u001b[0m scheduler \u001b[39m=\u001b[39m t\u001b[39m.\u001b[39moptim\u001b[39m.\u001b[39mlr_scheduler\u001b[39m.\u001b[39mLambdaLR(optimizer, lr_lambda\u001b[39m=\u001b[39mwarmup_fn)\n\u001b[0;32m--> 137\u001b[0m \u001b[39mfor\u001b[39;00m step, acts \u001b[39min\u001b[39;00m \u001b[39menumerate\u001b[39m(tqdm(activations, total\u001b[39m=\u001b[39msteps)):\n\u001b[1;32m    138\u001b[0m     \u001b[39mif\u001b[39;00m steps \u001b[39mis\u001b[39;00m \u001b[39mnot\u001b[39;00m \u001b[39mNone\u001b[39;00m \u001b[39mand\u001b[39;00m step \u001b[39m>\u001b[39m\u001b[39m=\u001b[39m steps:\n\u001b[1;32m    139\u001b[0m         \u001b[39mbreak\u001b[39;00m\n",
      "File \u001b[0;32m~/dev/transformer-playground/.direnv/python-3.10/lib/python3.10/site-packages/tqdm/std.py:1182\u001b[0m, in \u001b[0;36mtqdm.__iter__\u001b[0;34m(self)\u001b[0m\n\u001b[1;32m   1179\u001b[0m time \u001b[39m=\u001b[39m \u001b[39mself\u001b[39m\u001b[39m.\u001b[39m_time\n\u001b[1;32m   1181\u001b[0m \u001b[39mtry\u001b[39;00m:\n\u001b[0;32m-> 1182\u001b[0m     \u001b[39mfor\u001b[39;00m obj \u001b[39min\u001b[39;00m iterable:\n\u001b[1;32m   1183\u001b[0m         \u001b[39myield\u001b[39;00m obj\n\u001b[1;32m   1184\u001b[0m         \u001b[39m# Update and possibly print the progressbar.\u001b[39;00m\n\u001b[1;32m   1185\u001b[0m         \u001b[39m# Note: does not call self.update(1) for speed optimisation.\u001b[39;00m\n",
      "File \u001b[0;32m~/dev/transformer-playground/dictionary_learning/buffer.py:78\u001b[0m, in \u001b[0;36mActivationBuffer.__next__\u001b[0;34m(self)\u001b[0m\n\u001b[1;32m     76\u001b[0m \u001b[39m# return a batch\u001b[39;00m\n\u001b[1;32m     77\u001b[0m unreads \u001b[39m=\u001b[39m (\u001b[39m~\u001b[39m\u001b[39mself\u001b[39m\u001b[39m.\u001b[39mread)\u001b[39m.\u001b[39mnonzero()\u001b[39m.\u001b[39msqueeze()\n\u001b[0;32m---> 78\u001b[0m idxs \u001b[39m=\u001b[39m unreads[t\u001b[39m.\u001b[39;49mrandperm(\u001b[39mlen\u001b[39;49m(unreads))[:\u001b[39mself\u001b[39m\u001b[39m.\u001b[39mout_batch_size]]\n\u001b[1;32m     79\u001b[0m \u001b[39mself\u001b[39m\u001b[39m.\u001b[39mread[idxs] \u001b[39m=\u001b[39m \u001b[39mTrue\u001b[39;00m\n\u001b[1;32m     80\u001b[0m \u001b[39mif\u001b[39;00m \u001b[39mself\u001b[39m\u001b[39m.\u001b[39mio \u001b[39min\u001b[39;00m [\u001b[39m'\u001b[39m\u001b[39min\u001b[39m\u001b[39m'\u001b[39m, \u001b[39m'\u001b[39m\u001b[39mout\u001b[39m\u001b[39m'\u001b[39m]:\n",
      "\u001b[0;31mKeyboardInterrupt\u001b[0m: "
     ]
    }
   ],
   "source": [
    "from nnsight import LanguageModel\n",
    "from dictionary_learning.buffer import ActivationBuffer\n",
    "from dictionary_learning.training import trainSAE\n",
    "\n",
    "model = LanguageModel(\n",
    "    'jbrinkma/delphi-llama2-100k', # this can be any Huggingface model\n",
    ")\n",
    "submodule = model.model.layers[1].mlp # layer 1 MLP\n",
    "activation_dim = 48 # output dimension of the MLP\n",
    "dictionary_size = 4 * activation_dim\n",
    "\n",
    "buffer = ActivationBuffer(\n",
    "    train_data_iter,\n",
    "    model,\n",
    "    submodule,\n",
    "    out_feats=activation_dim, # output dimension of the model component\n",
    ") # buffer will return batches of tensors of dimension = submodule's output dimension\n",
    "\n",
    "# train the sparse autoencoder (SAE)\n",
    "ae = trainSAE(\n",
    "    buffer,\n",
    "    activation_dim,\n",
    "    dictionary_size,\n",
    "    lr=3e-4,\n",
    "    sparsity_penalty=1e-3,\n",
    ")"
   ]
  }
 ],
 "metadata": {
  "kernelspec": {
   "display_name": "python-3.10",
   "language": "python",
   "name": "python3"
  },
  "language_info": {
   "codemirror_mode": {
    "name": "ipython",
    "version": 3
   },
   "file_extension": ".py",
   "mimetype": "text/x-python",
   "name": "python",
   "nbconvert_exporter": "python",
   "pygments_lexer": "ipython3",
   "version": "3.10.12"
  },
  "orig_nbformat": 4
 },
 "nbformat": 4,
 "nbformat_minor": 2
}
