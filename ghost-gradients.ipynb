{
 "cells": [
  {
   "cell_type": "code",
   "execution_count": 1,
   "metadata": {},
   "outputs": [
    {
     "name": "stdout",
     "output_type": "stream",
     "text": [
      "fatal: destination path 'dictionary_learning' already exists and is not an empty directory.\n",
      "Requirement already satisfied: nnsight in /opt/conda/lib/python3.10/site-packages (from -r requirements.txt (line 1)) (0.1.18)\n",
      "Requirement already satisfied: transformers in /opt/conda/lib/python3.10/site-packages (from nnsight->-r requirements.txt (line 1)) (4.37.2)\n",
      "Requirement already satisfied: protobuf in /opt/conda/lib/python3.10/site-packages (from nnsight->-r requirements.txt (line 1)) (4.25.2)\n",
      "Requirement already satisfied: python-socketio[client] in /opt/conda/lib/python3.10/site-packages (from nnsight->-r requirements.txt (line 1)) (5.11.1)\n",
      "Requirement already satisfied: tokenizers>=0.13.0 in /opt/conda/lib/python3.10/site-packages (from nnsight->-r requirements.txt (line 1)) (0.15.1)\n",
      "Requirement already satisfied: pydantic>=2.4.0 in /opt/conda/lib/python3.10/site-packages (from nnsight->-r requirements.txt (line 1)) (2.6.1)\n",
      "Requirement already satisfied: torch>=2.1.0 in /opt/conda/lib/python3.10/site-packages (from nnsight->-r requirements.txt (line 1)) (2.2.0)\n",
      "Requirement already satisfied: sentencepiece in /opt/conda/lib/python3.10/site-packages (from nnsight->-r requirements.txt (line 1)) (0.1.99)\n",
      "Requirement already satisfied: torchvision in /opt/conda/lib/python3.10/site-packages (from nnsight->-r requirements.txt (line 1)) (0.17.0)\n",
      "Requirement already satisfied: accelerate in /opt/conda/lib/python3.10/site-packages (from nnsight->-r requirements.txt (line 1)) (0.26.1)\n",
      "Requirement already satisfied: diffusers in /opt/conda/lib/python3.10/site-packages (from nnsight->-r requirements.txt (line 1)) (0.26.1)\n",
      "Requirement already satisfied: einops in /opt/conda/lib/python3.10/site-packages (from nnsight->-r requirements.txt (line 1)) (0.7.0)\n",
      "Requirement already satisfied: annotated-types>=0.4.0 in /opt/conda/lib/python3.10/site-packages (from pydantic>=2.4.0->nnsight->-r requirements.txt (line 1)) (0.6.0)\n",
      "Requirement already satisfied: pydantic-core==2.16.2 in /opt/conda/lib/python3.10/site-packages (from pydantic>=2.4.0->nnsight->-r requirements.txt (line 1)) (2.16.2)\n",
      "Requirement already satisfied: typing-extensions>=4.6.1 in /opt/conda/lib/python3.10/site-packages (from pydantic>=2.4.0->nnsight->-r requirements.txt (line 1)) (4.9.0)\n",
      "Requirement already satisfied: huggingface_hub<1.0,>=0.16.4 in /opt/conda/lib/python3.10/site-packages (from tokenizers>=0.13.0->nnsight->-r requirements.txt (line 1)) (0.20.3)\n",
      "Requirement already satisfied: filelock in /opt/conda/lib/python3.10/site-packages (from torch>=2.1.0->nnsight->-r requirements.txt (line 1)) (3.13.1)\n",
      "Requirement already satisfied: sympy in /opt/conda/lib/python3.10/site-packages (from torch>=2.1.0->nnsight->-r requirements.txt (line 1)) (1.12)\n",
      "Requirement already satisfied: networkx in /opt/conda/lib/python3.10/site-packages (from torch>=2.1.0->nnsight->-r requirements.txt (line 1)) (3.1)\n",
      "Requirement already satisfied: jinja2 in /opt/conda/lib/python3.10/site-packages (from torch>=2.1.0->nnsight->-r requirements.txt (line 1)) (3.1.2)\n",
      "Requirement already satisfied: fsspec in /opt/conda/lib/python3.10/site-packages (from torch>=2.1.0->nnsight->-r requirements.txt (line 1)) (2023.10.0)\n",
      "Requirement already satisfied: numpy>=1.17 in /opt/conda/lib/python3.10/site-packages (from accelerate->nnsight->-r requirements.txt (line 1)) (1.26.3)\n",
      "Requirement already satisfied: packaging>=20.0 in /opt/conda/lib/python3.10/site-packages (from accelerate->nnsight->-r requirements.txt (line 1)) (23.1)\n",
      "Requirement already satisfied: psutil in /opt/conda/lib/python3.10/site-packages (from accelerate->nnsight->-r requirements.txt (line 1)) (5.9.0)\n",
      "Requirement already satisfied: pyyaml in /opt/conda/lib/python3.10/site-packages (from accelerate->nnsight->-r requirements.txt (line 1)) (6.0.1)\n",
      "Requirement already satisfied: safetensors>=0.3.1 in /opt/conda/lib/python3.10/site-packages (from accelerate->nnsight->-r requirements.txt (line 1)) (0.4.2)\n",
      "Requirement already satisfied: importlib-metadata in /opt/conda/lib/python3.10/site-packages (from diffusers->nnsight->-r requirements.txt (line 1)) (7.0.1)\n",
      "Requirement already satisfied: regex!=2019.12.17 in /opt/conda/lib/python3.10/site-packages (from diffusers->nnsight->-r requirements.txt (line 1)) (2023.12.25)\n",
      "Requirement already satisfied: requests in /opt/conda/lib/python3.10/site-packages (from diffusers->nnsight->-r requirements.txt (line 1)) (2.31.0)\n",
      "Requirement already satisfied: Pillow in /opt/conda/lib/python3.10/site-packages (from diffusers->nnsight->-r requirements.txt (line 1)) (10.0.1)\n",
      "Requirement already satisfied: bidict>=0.21.0 in /opt/conda/lib/python3.10/site-packages (from python-socketio[client]->nnsight->-r requirements.txt (line 1)) (0.22.1)\n",
      "Requirement already satisfied: python-engineio>=4.8.0 in /opt/conda/lib/python3.10/site-packages (from python-socketio[client]->nnsight->-r requirements.txt (line 1)) (4.9.0)\n",
      "Requirement already satisfied: websocket-client>=0.54.0 in /opt/conda/lib/python3.10/site-packages (from python-socketio[client]->nnsight->-r requirements.txt (line 1)) (1.7.0)\n",
      "Requirement already satisfied: tqdm>=4.27 in /opt/conda/lib/python3.10/site-packages (from transformers->nnsight->-r requirements.txt (line 1)) (4.65.0)\n",
      "Requirement already satisfied: simple-websocket>=0.10.0 in /opt/conda/lib/python3.10/site-packages (from python-engineio>=4.8.0->python-socketio[client]->nnsight->-r requirements.txt (line 1)) (1.0.0)\n",
      "Requirement already satisfied: charset-normalizer<4,>=2 in /opt/conda/lib/python3.10/site-packages (from requests->diffusers->nnsight->-r requirements.txt (line 1)) (2.0.4)\n",
      "Requirement already satisfied: idna<4,>=2.5 in /opt/conda/lib/python3.10/site-packages (from requests->diffusers->nnsight->-r requirements.txt (line 1)) (3.4)\n",
      "Requirement already satisfied: urllib3<3,>=1.21.1 in /opt/conda/lib/python3.10/site-packages (from requests->diffusers->nnsight->-r requirements.txt (line 1)) (1.26.18)\n",
      "Requirement already satisfied: certifi>=2017.4.17 in /opt/conda/lib/python3.10/site-packages (from requests->diffusers->nnsight->-r requirements.txt (line 1)) (2023.11.17)\n",
      "Requirement already satisfied: zipp>=0.5 in /opt/conda/lib/python3.10/site-packages (from importlib-metadata->diffusers->nnsight->-r requirements.txt (line 1)) (3.17.0)\n",
      "Requirement already satisfied: MarkupSafe>=2.0 in /opt/conda/lib/python3.10/site-packages (from jinja2->torch>=2.1.0->nnsight->-r requirements.txt (line 1)) (2.1.3)\n",
      "Requirement already satisfied: mpmath>=0.19 in /opt/conda/lib/python3.10/site-packages (from sympy->torch>=2.1.0->nnsight->-r requirements.txt (line 1)) (1.3.0)\n",
      "Requirement already satisfied: wsproto in /opt/conda/lib/python3.10/site-packages (from simple-websocket>=0.10.0->python-engineio>=4.8.0->python-socketio[client]->nnsight->-r requirements.txt (line 1)) (1.2.0)\n",
      "Requirement already satisfied: h11<1,>=0.9.0 in /opt/conda/lib/python3.10/site-packages (from wsproto->simple-websocket>=0.10.0->python-engineio>=4.8.0->python-socketio[client]->nnsight->-r requirements.txt (line 1)) (0.14.0)\n",
      "\u001b[33mWARNING: Running pip as the 'root' user can result in broken permissions and conflicting behaviour with the system package manager. It is recommended to use a virtual environment instead: https://pip.pypa.io/warnings/venv\u001b[0m\u001b[33m\n",
      "\u001b[0mRequirement already satisfied: zstandard in /opt/conda/lib/python3.10/site-packages (0.19.0)\n",
      "Requirement already satisfied: datasets in /opt/conda/lib/python3.10/site-packages (2.16.1)\n",
      "Requirement already satisfied: nnsight in /opt/conda/lib/python3.10/site-packages (0.1.18)\n",
      "Requirement already satisfied: filelock in /opt/conda/lib/python3.10/site-packages (from datasets) (3.13.1)\n",
      "Requirement already satisfied: numpy>=1.17 in /opt/conda/lib/python3.10/site-packages (from datasets) (1.26.3)\n",
      "Requirement already satisfied: pyarrow>=8.0.0 in /opt/conda/lib/python3.10/site-packages (from datasets) (15.0.0)\n",
      "Requirement already satisfied: pyarrow-hotfix in /opt/conda/lib/python3.10/site-packages (from datasets) (0.6)\n",
      "Requirement already satisfied: dill<0.3.8,>=0.3.0 in /opt/conda/lib/python3.10/site-packages (from datasets) (0.3.7)\n",
      "Requirement already satisfied: pandas in /opt/conda/lib/python3.10/site-packages (from datasets) (2.2.0)\n",
      "Requirement already satisfied: requests>=2.19.0 in /opt/conda/lib/python3.10/site-packages (from datasets) (2.31.0)\n",
      "Requirement already satisfied: tqdm>=4.62.1 in /opt/conda/lib/python3.10/site-packages (from datasets) (4.65.0)\n",
      "Requirement already satisfied: xxhash in /opt/conda/lib/python3.10/site-packages (from datasets) (3.4.1)\n",
      "Requirement already satisfied: multiprocess in /opt/conda/lib/python3.10/site-packages (from datasets) (0.70.15)\n",
      "Requirement already satisfied: fsspec<=2023.10.0,>=2023.1.0 in /opt/conda/lib/python3.10/site-packages (from fsspec[http]<=2023.10.0,>=2023.1.0->datasets) (2023.10.0)\n",
      "Requirement already satisfied: aiohttp in /opt/conda/lib/python3.10/site-packages (from datasets) (3.9.3)\n",
      "Requirement already satisfied: huggingface-hub>=0.19.4 in /opt/conda/lib/python3.10/site-packages (from datasets) (0.20.3)\n",
      "Requirement already satisfied: packaging in /opt/conda/lib/python3.10/site-packages (from datasets) (23.1)\n",
      "Requirement already satisfied: pyyaml>=5.1 in /opt/conda/lib/python3.10/site-packages (from datasets) (6.0.1)\n",
      "Requirement already satisfied: transformers in /opt/conda/lib/python3.10/site-packages (from nnsight) (4.37.2)\n",
      "Requirement already satisfied: protobuf in /opt/conda/lib/python3.10/site-packages (from nnsight) (4.25.2)\n",
      "Requirement already satisfied: python-socketio[client] in /opt/conda/lib/python3.10/site-packages (from nnsight) (5.11.1)\n",
      "Requirement already satisfied: tokenizers>=0.13.0 in /opt/conda/lib/python3.10/site-packages (from nnsight) (0.15.1)\n",
      "Requirement already satisfied: pydantic>=2.4.0 in /opt/conda/lib/python3.10/site-packages (from nnsight) (2.6.1)\n",
      "Requirement already satisfied: torch>=2.1.0 in /opt/conda/lib/python3.10/site-packages (from nnsight) (2.2.0)\n",
      "Requirement already satisfied: sentencepiece in /opt/conda/lib/python3.10/site-packages (from nnsight) (0.1.99)\n",
      "Requirement already satisfied: torchvision in /opt/conda/lib/python3.10/site-packages (from nnsight) (0.17.0)\n",
      "Requirement already satisfied: accelerate in /opt/conda/lib/python3.10/site-packages (from nnsight) (0.26.1)\n",
      "Requirement already satisfied: diffusers in /opt/conda/lib/python3.10/site-packages (from nnsight) (0.26.1)\n",
      "Requirement already satisfied: einops in /opt/conda/lib/python3.10/site-packages (from nnsight) (0.7.0)\n",
      "Requirement already satisfied: aiosignal>=1.1.2 in /opt/conda/lib/python3.10/site-packages (from aiohttp->datasets) (1.3.1)\n",
      "Requirement already satisfied: attrs>=17.3.0 in /opt/conda/lib/python3.10/site-packages (from aiohttp->datasets) (23.1.0)\n",
      "Requirement already satisfied: frozenlist>=1.1.1 in /opt/conda/lib/python3.10/site-packages (from aiohttp->datasets) (1.4.1)\n",
      "Requirement already satisfied: multidict<7.0,>=4.5 in /opt/conda/lib/python3.10/site-packages (from aiohttp->datasets) (6.0.5)\n",
      "Requirement already satisfied: yarl<2.0,>=1.0 in /opt/conda/lib/python3.10/site-packages (from aiohttp->datasets) (1.9.4)\n",
      "Requirement already satisfied: async-timeout<5.0,>=4.0 in /opt/conda/lib/python3.10/site-packages (from aiohttp->datasets) (4.0.3)\n",
      "Requirement already satisfied: typing-extensions>=3.7.4.3 in /opt/conda/lib/python3.10/site-packages (from huggingface-hub>=0.19.4->datasets) (4.9.0)\n",
      "Requirement already satisfied: annotated-types>=0.4.0 in /opt/conda/lib/python3.10/site-packages (from pydantic>=2.4.0->nnsight) (0.6.0)\n",
      "Requirement already satisfied: pydantic-core==2.16.2 in /opt/conda/lib/python3.10/site-packages (from pydantic>=2.4.0->nnsight) (2.16.2)\n",
      "Requirement already satisfied: charset-normalizer<4,>=2 in /opt/conda/lib/python3.10/site-packages (from requests>=2.19.0->datasets) (2.0.4)\n",
      "Requirement already satisfied: idna<4,>=2.5 in /opt/conda/lib/python3.10/site-packages (from requests>=2.19.0->datasets) (3.4)\n",
      "Requirement already satisfied: urllib3<3,>=1.21.1 in /opt/conda/lib/python3.10/site-packages (from requests>=2.19.0->datasets) (1.26.18)\n",
      "Requirement already satisfied: certifi>=2017.4.17 in /opt/conda/lib/python3.10/site-packages (from requests>=2.19.0->datasets) (2023.11.17)\n",
      "Requirement already satisfied: sympy in /opt/conda/lib/python3.10/site-packages (from torch>=2.1.0->nnsight) (1.12)\n",
      "Requirement already satisfied: networkx in /opt/conda/lib/python3.10/site-packages (from torch>=2.1.0->nnsight) (3.1)\n",
      "Requirement already satisfied: jinja2 in /opt/conda/lib/python3.10/site-packages (from torch>=2.1.0->nnsight) (3.1.2)\n",
      "Requirement already satisfied: psutil in /opt/conda/lib/python3.10/site-packages (from accelerate->nnsight) (5.9.0)\n",
      "Requirement already satisfied: safetensors>=0.3.1 in /opt/conda/lib/python3.10/site-packages (from accelerate->nnsight) (0.4.2)\n",
      "Requirement already satisfied: importlib-metadata in /opt/conda/lib/python3.10/site-packages (from diffusers->nnsight) (7.0.1)\n",
      "Requirement already satisfied: regex!=2019.12.17 in /opt/conda/lib/python3.10/site-packages (from diffusers->nnsight) (2023.12.25)\n",
      "Requirement already satisfied: Pillow in /opt/conda/lib/python3.10/site-packages (from diffusers->nnsight) (10.0.1)\n",
      "Requirement already satisfied: python-dateutil>=2.8.2 in /opt/conda/lib/python3.10/site-packages (from pandas->datasets) (2.8.2)\n",
      "Requirement already satisfied: pytz>=2020.1 in /opt/conda/lib/python3.10/site-packages (from pandas->datasets) (2023.3.post1)\n",
      "Requirement already satisfied: tzdata>=2022.7 in /opt/conda/lib/python3.10/site-packages (from pandas->datasets) (2023.4)\n",
      "Requirement already satisfied: bidict>=0.21.0 in /opt/conda/lib/python3.10/site-packages (from python-socketio[client]->nnsight) (0.22.1)\n",
      "Requirement already satisfied: python-engineio>=4.8.0 in /opt/conda/lib/python3.10/site-packages (from python-socketio[client]->nnsight) (4.9.0)\n",
      "Requirement already satisfied: websocket-client>=0.54.0 in /opt/conda/lib/python3.10/site-packages (from python-socketio[client]->nnsight) (1.7.0)\n",
      "Requirement already satisfied: six>=1.5 in /opt/conda/lib/python3.10/site-packages (from python-dateutil>=2.8.2->pandas->datasets) (1.16.0)\n",
      "Requirement already satisfied: simple-websocket>=0.10.0 in /opt/conda/lib/python3.10/site-packages (from python-engineio>=4.8.0->python-socketio[client]->nnsight) (1.0.0)\n",
      "Requirement already satisfied: zipp>=0.5 in /opt/conda/lib/python3.10/site-packages (from importlib-metadata->diffusers->nnsight) (3.17.0)\n",
      "Requirement already satisfied: MarkupSafe>=2.0 in /opt/conda/lib/python3.10/site-packages (from jinja2->torch>=2.1.0->nnsight) (2.1.3)\n",
      "Requirement already satisfied: mpmath>=0.19 in /opt/conda/lib/python3.10/site-packages (from sympy->torch>=2.1.0->nnsight) (1.3.0)\n",
      "Requirement already satisfied: wsproto in /opt/conda/lib/python3.10/site-packages (from simple-websocket>=0.10.0->python-engineio>=4.8.0->python-socketio[client]->nnsight) (1.2.0)\n",
      "Requirement already satisfied: h11<1,>=0.9.0 in /opt/conda/lib/python3.10/site-packages (from wsproto->simple-websocket>=0.10.0->python-engineio>=4.8.0->python-socketio[client]->nnsight) (0.14.0)\n",
      "\u001b[33mWARNING: Running pip as the 'root' user can result in broken permissions and conflicting behaviour with the system package manager. It is recommended to use a virtual environment instead: https://pip.pypa.io/warnings/venv\u001b[0m\u001b[33m\n",
      "\u001b[0mNote: you may need to restart the kernel to use updated packages.\n"
     ]
    }
   ],
   "source": [
    "!git clone https://github.com/saprmarks/dictionary_learning\n",
    "!cd dictionary_learning && pip install -r requirements.txt\n",
    "%pip install zstandard datasets nnsight"
   ]
  },
  {
   "cell_type": "code",
   "execution_count": 2,
   "metadata": {},
   "outputs": [
    {
     "data": {
      "text/plain": [
       "DatasetDict({\n",
       "    validation: Dataset({\n",
       "        features: ['story'],\n",
       "        num_rows: 27516\n",
       "    })\n",
       "    train: Dataset({\n",
       "        features: ['story'],\n",
       "        num_rows: 2705118\n",
       "    })\n",
       "})"
      ]
     },
     "execution_count": 2,
     "metadata": {},
     "output_type": "execute_result"
    }
   ],
   "source": [
    "from datasets import load_dataset\n",
    "\n",
    "dataset = load_dataset(\"jbrinkma/tinystories-v2-clean\")\n",
    "dataset"
   ]
  },
  {
   "cell_type": "code",
   "execution_count": 3,
   "metadata": {},
   "outputs": [],
   "source": [
    "train_data = dataset['train']['story']\n",
    "train_data_iter = iter(train_data)"
   ]
  },
  {
   "cell_type": "code",
   "execution_count": null,
   "metadata": {
    "scrolled": true
   },
   "outputs": [
    {
     "name": "stderr",
     "output_type": "stream",
     "text": [
      "/opt/conda/lib/python3.10/site-packages/diffusers/utils/outputs.py:63: UserWarning: torch.utils._pytree._register_pytree_node is deprecated. Please use torch.utils._pytree.register_pytree_node instead.\n",
      "  torch.utils._pytree._register_pytree_node(\n"
     ]
    },
    {
     "name": "stdout",
     "output_type": "stream",
     "text": [
      "STARTING TRAINING\n"
     ]
    },
    {
     "name": "stderr",
     "output_type": "stream",
     "text": [
      "0it [00:00, ?it/s]You're using a LlamaTokenizerFast tokenizer. Please note that with a fast tokenizer, using the `__call__` method is faster than using a method to encode the text followed by a call to the `pad` method to get a padded encoding.\n",
      "1it [02:54, 174.65s/it]"
     ]
    },
    {
     "name": "stdout",
     "output_type": "stream",
     "text": [
      "step 0 MSE loss: 0.12938371300697327, sparsity loss: 6.564143657684326, ghost_loss: None\n"
     ]
    },
    {
     "name": "stderr",
     "output_type": "stream",
     "text": [
      "101it [03:30,  3.10it/s]"
     ]
    },
    {
     "name": "stdout",
     "output_type": "stream",
     "text": [
      "step 100 MSE loss: 0.11636129021644592, sparsity loss: 6.43892240524292, ghost_loss: None\n"
     ]
    },
    {
     "name": "stderr",
     "output_type": "stream",
     "text": [
      "201it [04:02,  3.14it/s]"
     ]
    },
    {
     "name": "stdout",
     "output_type": "stream",
     "text": [
      "step 200 MSE loss: 0.0807068720459938, sparsity loss: 6.174003601074219, ghost_loss: None\n"
     ]
    },
    {
     "name": "stderr",
     "output_type": "stream",
     "text": [
      "301it [06:08,  2.66it/s]"
     ]
    },
    {
     "name": "stdout",
     "output_type": "stream",
     "text": [
      "step 300 MSE loss: 0.03703900799155235, sparsity loss: 6.078494071960449, ghost_loss: None\n"
     ]
    },
    {
     "name": "stderr",
     "output_type": "stream",
     "text": [
      "401it [06:41,  3.02it/s]"
     ]
    },
    {
     "name": "stdout",
     "output_type": "stream",
     "text": [
      "step 400 MSE loss: 0.02765638940036297, sparsity loss: 5.903647422790527, ghost_loss: None\n"
     ]
    },
    {
     "name": "stderr",
     "output_type": "stream",
     "text": [
      "501it [08:47,  2.72it/s]"
     ]
    },
    {
     "name": "stdout",
     "output_type": "stream",
     "text": [
      "step 500 MSE loss: 0.021412068977952003, sparsity loss: 5.771671295166016, ghost_loss: None\n"
     ]
    },
    {
     "name": "stderr",
     "output_type": "stream",
     "text": [
      "601it [09:20,  3.09it/s]"
     ]
    },
    {
     "name": "stdout",
     "output_type": "stream",
     "text": [
      "step 600 MSE loss: 0.015704704448580742, sparsity loss: 5.65676736831665, ghost_loss: None\n"
     ]
    },
    {
     "name": "stderr",
     "output_type": "stream",
     "text": [
      "701it [09:52,  3.15it/s]"
     ]
    },
    {
     "name": "stdout",
     "output_type": "stream",
     "text": [
      "step 700 MSE loss: 0.01090124249458313, sparsity loss: 5.483346939086914, ghost_loss: None\n"
     ]
    },
    {
     "name": "stderr",
     "output_type": "stream",
     "text": [
      "801it [11:59,  3.07it/s]"
     ]
    },
    {
     "name": "stdout",
     "output_type": "stream",
     "text": [
      "step 800 MSE loss: 0.00737823685631156, sparsity loss: 5.227137565612793, ghost_loss: None\n"
     ]
    },
    {
     "name": "stderr",
     "output_type": "stream",
     "text": [
      "901it [12:32,  3.03it/s]"
     ]
    },
    {
     "name": "stdout",
     "output_type": "stream",
     "text": [
      "step 900 MSE loss: 0.004332306329160929, sparsity loss: 4.992115497589111, ghost_loss: None\n"
     ]
    },
    {
     "name": "stderr",
     "output_type": "stream",
     "text": [
      "1001it [14:37,  2.78it/s]"
     ]
    },
    {
     "name": "stdout",
     "output_type": "stream",
     "text": [
      "step 1000 MSE loss: 0.0020606955513358116, sparsity loss: 4.835012435913086, ghost_loss: None\n"
     ]
    },
    {
     "name": "stderr",
     "output_type": "stream",
     "text": [
      "1101it [15:10,  3.03it/s]"
     ]
    },
    {
     "name": "stdout",
     "output_type": "stream",
     "text": [
      "step 1100 MSE loss: 0.0011443940456956625, sparsity loss: 4.729020118713379, ghost_loss: None\n"
     ]
    },
    {
     "name": "stderr",
     "output_type": "stream",
     "text": [
      "1201it [17:13,  2.63s/it]"
     ]
    },
    {
     "name": "stdout",
     "output_type": "stream",
     "text": [
      "step 1200 MSE loss: 0.0009054108522832394, sparsity loss: 4.547131538391113, ghost_loss: None\n"
     ]
    },
    {
     "name": "stderr",
     "output_type": "stream",
     "text": [
      "1301it [17:48,  3.08it/s]"
     ]
    },
    {
     "name": "stdout",
     "output_type": "stream",
     "text": [
      "step 1300 MSE loss: 0.0007866952801123261, sparsity loss: 4.334972858428955, ghost_loss: None\n"
     ]
    },
    {
     "name": "stderr",
     "output_type": "stream",
     "text": [
      "1401it [18:20,  3.22it/s]"
     ]
    },
    {
     "name": "stdout",
     "output_type": "stream",
     "text": [
      "step 1400 MSE loss: 0.0007570234593003988, sparsity loss: 4.136396408081055, ghost_loss: None\n"
     ]
    },
    {
     "name": "stderr",
     "output_type": "stream",
     "text": [
      "1501it [20:25,  2.96it/s]"
     ]
    },
    {
     "name": "stdout",
     "output_type": "stream",
     "text": [
      "step 1500 MSE loss: 0.0007434573490172625, sparsity loss: 4.003382682800293, ghost_loss: None\n"
     ]
    },
    {
     "name": "stderr",
     "output_type": "stream",
     "text": [
      "1601it [20:58,  3.02it/s]"
     ]
    },
    {
     "name": "stdout",
     "output_type": "stream",
     "text": [
      "step 1600 MSE loss: 0.0006802564603276551, sparsity loss: 3.8800110816955566, ghost_loss: None\n"
     ]
    },
    {
     "name": "stderr",
     "output_type": "stream",
     "text": [
      "1701it [23:03,  2.99it/s]"
     ]
    },
    {
     "name": "stdout",
     "output_type": "stream",
     "text": [
      "step 1700 MSE loss: 0.0006753465859219432, sparsity loss: 3.7881436347961426, ghost_loss: None\n"
     ]
    },
    {
     "name": "stderr",
     "output_type": "stream",
     "text": [
      "1801it [23:37,  3.08it/s]"
     ]
    },
    {
     "name": "stdout",
     "output_type": "stream",
     "text": [
      "step 1800 MSE loss: 0.0006214843015186489, sparsity loss: 3.691014289855957, ghost_loss: None\n"
     ]
    },
    {
     "name": "stderr",
     "output_type": "stream",
     "text": [
      "1901it [24:09,  3.18it/s]"
     ]
    },
    {
     "name": "stdout",
     "output_type": "stream",
     "text": [
      "step 1900 MSE loss: 0.0006217815680429339, sparsity loss: 3.6121444702148438, ghost_loss: None\n"
     ]
    },
    {
     "name": "stderr",
     "output_type": "stream",
     "text": [
      "2001it [26:14,  2.95it/s]"
     ]
    },
    {
     "name": "stdout",
     "output_type": "stream",
     "text": [
      "step 2000 MSE loss: 0.0006192044238559902, sparsity loss: 3.5262670516967773, ghost_loss: None\n"
     ]
    },
    {
     "name": "stderr",
     "output_type": "stream",
     "text": [
      "2101it [26:46,  3.11it/s]"
     ]
    },
    {
     "name": "stdout",
     "output_type": "stream",
     "text": [
      "step 2100 MSE loss: 0.000600419647525996, sparsity loss: 3.4857592582702637, ghost_loss: None\n"
     ]
    },
    {
     "name": "stderr",
     "output_type": "stream",
     "text": [
      "2201it [28:49,  2.62it/s]"
     ]
    },
    {
     "name": "stdout",
     "output_type": "stream",
     "text": [
      "step 2200 MSE loss: 0.0005712913116440177, sparsity loss: 3.4173171520233154, ghost_loss: None\n"
     ]
    },
    {
     "name": "stderr",
     "output_type": "stream",
     "text": [
      "2301it [29:23,  3.05it/s]"
     ]
    },
    {
     "name": "stdout",
     "output_type": "stream",
     "text": [
      "step 2300 MSE loss: 0.0005889669409953058, sparsity loss: 3.368041515350342, ghost_loss: None\n"
     ]
    },
    {
     "name": "stderr",
     "output_type": "stream",
     "text": [
      "2401it [31:26,  1.08it/s]"
     ]
    },
    {
     "name": "stdout",
     "output_type": "stream",
     "text": [
      "step 2400 MSE loss: 0.0005349472630769014, sparsity loss: 3.319274425506592, ghost_loss: None\n"
     ]
    },
    {
     "name": "stderr",
     "output_type": "stream",
     "text": [
      "2501it [32:00,  3.11it/s]"
     ]
    },
    {
     "name": "stdout",
     "output_type": "stream",
     "text": [
      "step 2500 MSE loss: 0.0005434143240563571, sparsity loss: 3.271395683288574, ghost_loss: None\n"
     ]
    },
    {
     "name": "stderr",
     "output_type": "stream",
     "text": [
      "2601it [32:32,  3.18it/s]"
     ]
    },
    {
     "name": "stdout",
     "output_type": "stream",
     "text": [
      "step 2600 MSE loss: 0.0005389236030168831, sparsity loss: 3.2243499755859375, ghost_loss: None\n"
     ]
    },
    {
     "name": "stderr",
     "output_type": "stream",
     "text": [
      "2701it [34:37,  2.95it/s]"
     ]
    },
    {
     "name": "stdout",
     "output_type": "stream",
     "text": [
      "step 2700 MSE loss: 0.0005352261359803379, sparsity loss: 3.193155527114868, ghost_loss: None\n"
     ]
    },
    {
     "name": "stderr",
     "output_type": "stream",
     "text": [
      "2801it [35:10,  3.04it/s]"
     ]
    },
    {
     "name": "stdout",
     "output_type": "stream",
     "text": [
      "step 2800 MSE loss: 0.000515413994435221, sparsity loss: 3.16739821434021, ghost_loss: None\n"
     ]
    },
    {
     "name": "stderr",
     "output_type": "stream",
     "text": [
      "2901it [37:16,  2.59it/s]"
     ]
    },
    {
     "name": "stdout",
     "output_type": "stream",
     "text": [
      "step 2900 MSE loss: 0.000495432410389185, sparsity loss: 3.1273021697998047, ghost_loss: None\n"
     ]
    },
    {
     "name": "stderr",
     "output_type": "stream",
     "text": [
      "3001it [37:49,  3.05it/s]"
     ]
    },
    {
     "name": "stdout",
     "output_type": "stream",
     "text": [
      "step 3000 MSE loss: 0.0004949483554810286, sparsity loss: 3.097101926803589, ghost_loss: None\n"
     ]
    },
    {
     "name": "stderr",
     "output_type": "stream",
     "text": [
      "3101it [38:20,  3.20it/s]"
     ]
    },
    {
     "name": "stdout",
     "output_type": "stream",
     "text": [
      "step 3100 MSE loss: 0.0004977677017450333, sparsity loss: 3.0953783988952637, ghost_loss: None\n"
     ]
    },
    {
     "name": "stderr",
     "output_type": "stream",
     "text": [
      "3201it [40:28,  3.04it/s]"
     ]
    },
    {
     "name": "stdout",
     "output_type": "stream",
     "text": [
      "step 3200 MSE loss: 0.0004909944254904985, sparsity loss: 3.051084280014038, ghost_loss: None\n"
     ]
    },
    {
     "name": "stderr",
     "output_type": "stream",
     "text": [
      "3301it [41:00,  3.11it/s]"
     ]
    },
    {
     "name": "stdout",
     "output_type": "stream",
     "text": [
      "step 3300 MSE loss: 0.0005087132449261844, sparsity loss: 3.0229902267456055, ghost_loss: None\n"
     ]
    },
    {
     "name": "stderr",
     "output_type": "stream",
     "text": [
      "3401it [43:05,  2.86it/s]"
     ]
    },
    {
     "name": "stdout",
     "output_type": "stream",
     "text": [
      "step 3400 MSE loss: 0.0004686448082793504, sparsity loss: 3.0055160522460938, ghost_loss: None\n"
     ]
    },
    {
     "name": "stderr",
     "output_type": "stream",
     "text": [
      "3501it [43:38,  3.14it/s]"
     ]
    },
    {
     "name": "stdout",
     "output_type": "stream",
     "text": [
      "step 3500 MSE loss: 0.0004826396470889449, sparsity loss: 2.972189426422119, ghost_loss: None\n"
     ]
    },
    {
     "name": "stderr",
     "output_type": "stream",
     "text": [
      "3601it [45:42,  2.07it/s]"
     ]
    },
    {
     "name": "stdout",
     "output_type": "stream",
     "text": [
      "step 3600 MSE loss: 0.0004793279804289341, sparsity loss: 2.958338499069214, ghost_loss: None\n"
     ]
    },
    {
     "name": "stderr",
     "output_type": "stream",
     "text": [
      "3701it [46:17,  3.13it/s]"
     ]
    },
    {
     "name": "stdout",
     "output_type": "stream",
     "text": [
      "step 3700 MSE loss: 0.0004622126289177686, sparsity loss: 2.928431272506714, ghost_loss: None\n"
     ]
    },
    {
     "name": "stderr",
     "output_type": "stream",
     "text": [
      "3801it [46:48,  3.11it/s]"
     ]
    },
    {
     "name": "stdout",
     "output_type": "stream",
     "text": [
      "step 3800 MSE loss: 0.0004643204156309366, sparsity loss: 2.929769992828369, ghost_loss: None\n"
     ]
    },
    {
     "name": "stderr",
     "output_type": "stream",
     "text": [
      "3901it [48:55,  2.95it/s]"
     ]
    },
    {
     "name": "stdout",
     "output_type": "stream",
     "text": [
      "step 3900 MSE loss: 0.0004574251070152968, sparsity loss: 2.9027886390686035, ghost_loss: None\n"
     ]
    },
    {
     "name": "stderr",
     "output_type": "stream",
     "text": [
      "4001it [49:28,  3.16it/s]"
     ]
    },
    {
     "name": "stdout",
     "output_type": "stream",
     "text": [
      "step 4000 MSE loss: 0.00045794935431331396, sparsity loss: 2.8742685317993164, ghost_loss: None\n"
     ]
    },
    {
     "name": "stderr",
     "output_type": "stream",
     "text": [
      "4101it [51:33,  2.76it/s]"
     ]
    },
    {
     "name": "stdout",
     "output_type": "stream",
     "text": [
      "step 4100 MSE loss: 0.0004534200706984848, sparsity loss: 2.8621528148651123, ghost_loss: None\n"
     ]
    },
    {
     "name": "stderr",
     "output_type": "stream",
     "text": [
      "4201it [52:07,  3.08it/s]"
     ]
    },
    {
     "name": "stdout",
     "output_type": "stream",
     "text": [
      "step 4200 MSE loss: 0.00043442382593639195, sparsity loss: 2.8552095890045166, ghost_loss: None\n"
     ]
    },
    {
     "name": "stderr",
     "output_type": "stream",
     "text": [
      "4301it [52:39,  3.13it/s]"
     ]
    },
    {
     "name": "stdout",
     "output_type": "stream",
     "text": [
      "step 4300 MSE loss: 0.00042982815648429096, sparsity loss: 2.8474619388580322, ghost_loss: None\n"
     ]
    },
    {
     "name": "stderr",
     "output_type": "stream",
     "text": [
      "4401it [54:44,  2.92it/s]"
     ]
    },
    {
     "name": "stdout",
     "output_type": "stream",
     "text": [
      "step 4400 MSE loss: 0.00043390647624619305, sparsity loss: 2.8212971687316895, ghost_loss: None\n"
     ]
    },
    {
     "name": "stderr",
     "output_type": "stream",
     "text": [
      "4501it [55:16,  3.12it/s]"
     ]
    },
    {
     "name": "stdout",
     "output_type": "stream",
     "text": [
      "step 4500 MSE loss: 0.00043628393905237317, sparsity loss: 2.802535057067871, ghost_loss: None\n"
     ]
    },
    {
     "name": "stderr",
     "output_type": "stream",
     "text": [
      "4601it [57:23,  2.56it/s]"
     ]
    },
    {
     "name": "stdout",
     "output_type": "stream",
     "text": [
      "step 4600 MSE loss: 0.0004268113407306373, sparsity loss: 2.8164496421813965, ghost_loss: None\n"
     ]
    },
    {
     "name": "stderr",
     "output_type": "stream",
     "text": [
      "4701it [57:57,  2.93it/s]"
     ]
    },
    {
     "name": "stdout",
     "output_type": "stream",
     "text": [
      "step 4700 MSE loss: 0.00044503825483843684, sparsity loss: 2.7832276821136475, ghost_loss: None\n"
     ]
    },
    {
     "name": "stderr",
     "output_type": "stream",
     "text": [
      "4801it [1:00:02,  2.54it/s]"
     ]
    },
    {
     "name": "stdout",
     "output_type": "stream",
     "text": [
      "step 4800 MSE loss: 0.00043378997361287475, sparsity loss: 2.7712137699127197, ghost_loss: None\n"
     ]
    },
    {
     "name": "stderr",
     "output_type": "stream",
     "text": [
      "4901it [1:00:36,  3.03it/s]"
     ]
    },
    {
     "name": "stdout",
     "output_type": "stream",
     "text": [
      "step 4900 MSE loss: 0.0004244241281412542, sparsity loss: 2.746774196624756, ghost_loss: None\n"
     ]
    },
    {
     "name": "stderr",
     "output_type": "stream",
     "text": [
      "5001it [1:01:10,  2.70it/s]"
     ]
    },
    {
     "name": "stdout",
     "output_type": "stream",
     "text": [
      "step 5000 MSE loss: 0.0005054788780398667, sparsity loss: 2.8212790489196777, ghost_loss: 0.0005113207153044641\n"
     ]
    },
    {
     "name": "stderr",
     "output_type": "stream",
     "text": [
      "5101it [1:03:19,  2.78it/s]"
     ]
    },
    {
     "name": "stdout",
     "output_type": "stream",
     "text": [
      "step 5100 MSE loss: 0.00036061977152712643, sparsity loss: 2.862964630126953, ghost_loss: 0.0003623821830842644\n"
     ]
    },
    {
     "name": "stderr",
     "output_type": "stream",
     "text": [
      "5201it [1:03:54,  2.76it/s]"
     ]
    },
    {
     "name": "stdout",
     "output_type": "stream",
     "text": [
      "step 5200 MSE loss: 0.00033401139080524445, sparsity loss: 2.886619806289673, ghost_loss: 0.00033802242251113057\n"
     ]
    },
    {
     "name": "stderr",
     "output_type": "stream",
     "text": [
      "5301it [1:06:04,  2.37it/s]"
     ]
    },
    {
     "name": "stdout",
     "output_type": "stream",
     "text": [
      "step 5300 MSE loss: 0.00031499002943746746, sparsity loss: 2.913926124572754, ghost_loss: 0.0003267168067395687\n"
     ]
    },
    {
     "name": "stderr",
     "output_type": "stream",
     "text": [
      "5401it [1:06:40,  2.85it/s]"
     ]
    },
    {
     "name": "stdout",
     "output_type": "stream",
     "text": [
      "step 5400 MSE loss: 0.00030209971009753644, sparsity loss: 2.921057939529419, ghost_loss: 0.0003062920004595071\n"
     ]
    },
    {
     "name": "stderr",
     "output_type": "stream",
     "text": [
      "5501it [1:08:45, 19.17s/it]"
     ]
    },
    {
     "name": "stdout",
     "output_type": "stream",
     "text": [
      "step 5500 MSE loss: 0.0002819870423991233, sparsity loss: 2.9090540409088135, ghost_loss: 0.00027108279755339026\n"
     ]
    },
    {
     "name": "stderr",
     "output_type": "stream",
     "text": [
      "5601it [1:09:23,  2.74it/s]"
     ]
    },
    {
     "name": "stdout",
     "output_type": "stream",
     "text": [
      "step 5600 MSE loss: 0.0002804085670504719, sparsity loss: 2.9166064262390137, ghost_loss: 0.0002775653556454927\n"
     ]
    },
    {
     "name": "stderr",
     "output_type": "stream",
     "text": [
      "5701it [1:09:58,  2.68it/s]"
     ]
    },
    {
     "name": "stdout",
     "output_type": "stream",
     "text": [
      "step 5700 MSE loss: 0.0002621046733111143, sparsity loss: 2.9088408946990967, ghost_loss: 0.0002520334965083748\n"
     ]
    },
    {
     "name": "stderr",
     "output_type": "stream",
     "text": [
      "5801it [1:12:08,  2.66it/s]"
     ]
    },
    {
     "name": "stdout",
     "output_type": "stream",
     "text": [
      "step 5800 MSE loss: 0.00025784640456549823, sparsity loss: 2.9212846755981445, ghost_loss: 0.0002514558145776391\n"
     ]
    },
    {
     "name": "stderr",
     "output_type": "stream",
     "text": [
      "5901it [1:12:44,  2.69it/s]"
     ]
    },
    {
     "name": "stdout",
     "output_type": "stream",
     "text": [
      "step 5900 MSE loss: 0.00026305989013053477, sparsity loss: 2.92635178565979, ghost_loss: 0.00025615550111979246\n"
     ]
    },
    {
     "name": "stderr",
     "output_type": "stream",
     "text": [
      "6001it [1:14:51,  2.39it/s]"
     ]
    },
    {
     "name": "stdout",
     "output_type": "stream",
     "text": [
      "step 6000 MSE loss: 0.0002502477145753801, sparsity loss: 2.9008636474609375, ghost_loss: 0.00023768586106598377\n"
     ]
    },
    {
     "name": "stderr",
     "output_type": "stream",
     "text": [
      "6101it [1:15:28,  2.75it/s]"
     ]
    },
    {
     "name": "stdout",
     "output_type": "stream",
     "text": [
      "step 6100 MSE loss: 0.00025785103207454085, sparsity loss: 2.909463405609131, ghost_loss: 0.0002393896720604971\n"
     ]
    },
    {
     "name": "stderr",
     "output_type": "stream",
     "text": [
      "6201it [1:16:03,  2.99it/s]"
     ]
    },
    {
     "name": "stdout",
     "output_type": "stream",
     "text": [
      "step 6200 MSE loss: 0.0002547242329455912, sparsity loss: 2.9011802673339844, ghost_loss: 0.00026243188767693937\n"
     ]
    },
    {
     "name": "stderr",
     "output_type": "stream",
     "text": [
      "6301it [1:18:14,  2.59it/s]"
     ]
    },
    {
     "name": "stdout",
     "output_type": "stream",
     "text": [
      "step 6300 MSE loss: 0.00021518486028071493, sparsity loss: 2.909813165664673, ghost_loss: 0.00022887063096277416\n"
     ]
    },
    {
     "name": "stderr",
     "output_type": "stream",
     "text": [
      "6401it [1:18:49,  2.84it/s]"
     ]
    },
    {
     "name": "stdout",
     "output_type": "stream",
     "text": [
      "step 6400 MSE loss: 0.00025281982379965484, sparsity loss: 2.8918957710266113, ghost_loss: 0.00024277235206682235\n"
     ]
    },
    {
     "name": "stderr",
     "output_type": "stream",
     "text": [
      "6501it [1:20:59,  2.40it/s]"
     ]
    },
    {
     "name": "stdout",
     "output_type": "stream",
     "text": [
      "step 6500 MSE loss: 0.0002627050271257758, sparsity loss: 2.895197629928589, ghost_loss: 0.00024327894789166749\n"
     ]
    },
    {
     "name": "stderr",
     "output_type": "stream",
     "text": [
      "6601it [1:21:35,  2.67it/s]"
     ]
    },
    {
     "name": "stdout",
     "output_type": "stream",
     "text": [
      "step 6600 MSE loss: 0.0002475267683621496, sparsity loss: 2.9150938987731934, ghost_loss: 0.00023525962023995817\n"
     ]
    },
    {
     "name": "stderr",
     "output_type": "stream",
     "text": [
      "6701it [1:23:42,  5.05s/it]"
     ]
    },
    {
     "name": "stdout",
     "output_type": "stream",
     "text": [
      "step 6700 MSE loss: 0.00024124157789628953, sparsity loss: 2.9245269298553467, ghost_loss: 0.0002288852701894939\n"
     ]
    },
    {
     "name": "stderr",
     "output_type": "stream",
     "text": [
      "6801it [1:24:19,  2.71it/s]"
     ]
    },
    {
     "name": "stdout",
     "output_type": "stream",
     "text": [
      "step 6800 MSE loss: 0.0002119226846843958, sparsity loss: 2.893798589706421, ghost_loss: 0.00023101696569938213\n"
     ]
    },
    {
     "name": "stderr",
     "output_type": "stream",
     "text": [
      "6901it [1:24:55,  2.65it/s]"
     ]
    },
    {
     "name": "stdout",
     "output_type": "stream",
     "text": [
      "step 6900 MSE loss: 0.0002418928052065894, sparsity loss: 2.8973429203033447, ghost_loss: 0.00025087175890803337\n"
     ]
    },
    {
     "name": "stderr",
     "output_type": "stream",
     "text": [
      "7001it [1:27:02,  2.62it/s]"
     ]
    },
    {
     "name": "stdout",
     "output_type": "stream",
     "text": [
      "step 7000 MSE loss: 0.0002503280993551016, sparsity loss: 2.878429889678955, ghost_loss: 0.00023375758610200137\n"
     ]
    },
    {
     "name": "stderr",
     "output_type": "stream",
     "text": [
      "7101it [1:27:38,  2.76it/s]"
     ]
    },
    {
     "name": "stdout",
     "output_type": "stream",
     "text": [
      "step 7100 MSE loss: 0.00023881600645836443, sparsity loss: 2.9001431465148926, ghost_loss: 0.00022629887098446488\n"
     ]
    },
    {
     "name": "stderr",
     "output_type": "stream",
     "text": [
      "7201it [1:29:47,  2.47it/s]"
     ]
    },
    {
     "name": "stdout",
     "output_type": "stream",
     "text": [
      "step 7200 MSE loss: 0.00022242448176257312, sparsity loss: 2.888134002685547, ghost_loss: 0.00020752106502186507\n"
     ]
    },
    {
     "name": "stderr",
     "output_type": "stream",
     "text": [
      "7301it [1:30:24,  2.78it/s]"
     ]
    },
    {
     "name": "stdout",
     "output_type": "stream",
     "text": [
      "step 7300 MSE loss: 0.0002468750171829015, sparsity loss: 2.8795721530914307, ghost_loss: 0.00022966598044149578\n"
     ]
    },
    {
     "name": "stderr",
     "output_type": "stream",
     "text": [
      "7401it [1:31:00,  2.72it/s]"
     ]
    },
    {
     "name": "stdout",
     "output_type": "stream",
     "text": [
      "step 7400 MSE loss: 0.00020300300093367696, sparsity loss: 2.9009530544281006, ghost_loss: 0.00022203181288205087\n"
     ]
    },
    {
     "name": "stderr",
     "output_type": "stream",
     "text": [
      "7501it [1:33:10,  2.58it/s]"
     ]
    },
    {
     "name": "stdout",
     "output_type": "stream",
     "text": [
      "step 7500 MSE loss: 0.00020769979164469987, sparsity loss: 2.8908698558807373, ghost_loss: 0.000223793278564699\n"
     ]
    },
    {
     "name": "stderr",
     "output_type": "stream",
     "text": [
      "7601it [1:33:45,  2.69it/s]"
     ]
    },
    {
     "name": "stdout",
     "output_type": "stream",
     "text": [
      "step 7600 MSE loss: 0.00023991848865989596, sparsity loss: 2.891396999359131, ghost_loss: 0.00022172334138303995\n"
     ]
    },
    {
     "name": "stderr",
     "output_type": "stream",
     "text": [
      "7701it [1:35:56,  2.44it/s]"
     ]
    },
    {
     "name": "stdout",
     "output_type": "stream",
     "text": [
      "step 7700 MSE loss: 0.00024860177654772997, sparsity loss: 2.8916268348693848, ghost_loss: 0.0002364257088629529\n"
     ]
    },
    {
     "name": "stderr",
     "output_type": "stream",
     "text": [
      "7801it [1:36:32,  2.80it/s]"
     ]
    },
    {
     "name": "stdout",
     "output_type": "stream",
     "text": [
      "step 7800 MSE loss: 0.0002005857095355168, sparsity loss: 2.872968912124634, ghost_loss: 0.00021926581393927336\n"
     ]
    },
    {
     "name": "stderr",
     "output_type": "stream",
     "text": [
      "7901it [1:38:41,  1.55s/it]"
     ]
    },
    {
     "name": "stdout",
     "output_type": "stream",
     "text": [
      "step 7900 MSE loss: 0.00023946896544657648, sparsity loss: 2.860244035720825, ghost_loss: 0.00022891341359354556\n"
     ]
    },
    {
     "name": "stderr",
     "output_type": "stream",
     "text": [
      "8001it [1:39:18,  2.72it/s]"
     ]
    },
    {
     "name": "stdout",
     "output_type": "stream",
     "text": [
      "step 8000 MSE loss: 0.00024214388395193964, sparsity loss: 2.861738681793213, ghost_loss: 0.00023882384994067252\n"
     ]
    },
    {
     "name": "stderr",
     "output_type": "stream",
     "text": [
      "8101it [1:39:53,  2.95it/s]"
     ]
    },
    {
     "name": "stdout",
     "output_type": "stream",
     "text": [
      "step 8100 MSE loss: 0.00022831012029200792, sparsity loss: 2.8642919063568115, ghost_loss: 0.0002157003036700189\n"
     ]
    },
    {
     "name": "stderr",
     "output_type": "stream",
     "text": [
      "8201it [1:42:04,  2.45it/s]"
     ]
    },
    {
     "name": "stdout",
     "output_type": "stream",
     "text": [
      "step 8200 MSE loss: 0.00022103181981947273, sparsity loss: 2.8615729808807373, ghost_loss: 0.000202896524569951\n"
     ]
    },
    {
     "name": "stderr",
     "output_type": "stream",
     "text": [
      "8301it [1:42:40,  2.64it/s]"
     ]
    },
    {
     "name": "stdout",
     "output_type": "stream",
     "text": [
      "step 8300 MSE loss: 0.00022788005298934877, sparsity loss: 2.855287790298462, ghost_loss: 0.00020893143664579839\n"
     ]
    },
    {
     "name": "stderr",
     "output_type": "stream",
     "text": [
      "8401it [1:44:48,  2.48it/s]"
     ]
    },
    {
     "name": "stdout",
     "output_type": "stream",
     "text": [
      "step 8400 MSE loss: 0.00022955326130613685, sparsity loss: 2.8466358184814453, ghost_loss: 0.00020968299941159785\n"
     ]
    },
    {
     "name": "stderr",
     "output_type": "stream",
     "text": [
      "8501it [1:45:24,  2.70it/s]"
     ]
    },
    {
     "name": "stdout",
     "output_type": "stream",
     "text": [
      "step 8500 MSE loss: 0.000240262525039725, sparsity loss: 2.873837471008301, ghost_loss: 0.00022592330060433596\n"
     ]
    },
    {
     "name": "stderr",
     "output_type": "stream",
     "text": [
      "8601it [1:46:00,  2.69it/s]"
     ]
    },
    {
     "name": "stdout",
     "output_type": "stream",
     "text": [
      "step 8600 MSE loss: 0.00022192700998857617, sparsity loss: 2.875831365585327, ghost_loss: 0.00020856710034422576\n"
     ]
    },
    {
     "name": "stderr",
     "output_type": "stream",
     "text": [
      "8701it [1:48:12,  2.73it/s]"
     ]
    },
    {
     "name": "stdout",
     "output_type": "stream",
     "text": [
      "step 8700 MSE loss: 0.0002276015147799626, sparsity loss: 2.8346283435821533, ghost_loss: 0.000203282805159688\n"
     ]
    },
    {
     "name": "stderr",
     "output_type": "stream",
     "text": [
      "8801it [1:48:47,  2.70it/s]"
     ]
    },
    {
     "name": "stdout",
     "output_type": "stream",
     "text": [
      "step 8800 MSE loss: 0.00022054981673136353, sparsity loss: 2.8538994789123535, ghost_loss: 0.000205662872758694\n"
     ]
    },
    {
     "name": "stderr",
     "output_type": "stream",
     "text": [
      "8901it [1:50:56,  2.71it/s]"
     ]
    },
    {
     "name": "stdout",
     "output_type": "stream",
     "text": [
      "step 8900 MSE loss: 0.00021310776355676353, sparsity loss: 2.8319058418273926, ghost_loss: 0.00019735630485229194\n"
     ]
    },
    {
     "name": "stderr",
     "output_type": "stream",
     "text": [
      "9001it [1:51:32,  2.69it/s]"
     ]
    },
    {
     "name": "stdout",
     "output_type": "stream",
     "text": [
      "step 9000 MSE loss: 0.00021390296751633286, sparsity loss: 2.8378777503967285, ghost_loss: 0.00019382726168259978\n"
     ]
    },
    {
     "name": "stderr",
     "output_type": "stream",
     "text": [
      "9101it [1:53:39,  1.47it/s]"
     ]
    },
    {
     "name": "stdout",
     "output_type": "stream",
     "text": [
      "step 9100 MSE loss: 0.00020747566304635257, sparsity loss: 2.825592517852783, ghost_loss: 0.00018924234609585255\n"
     ]
    },
    {
     "name": "stderr",
     "output_type": "stream",
     "text": [
      "9201it [1:54:17,  2.63it/s]"
     ]
    },
    {
     "name": "stdout",
     "output_type": "stream",
     "text": [
      "step 9200 MSE loss: 0.00021728397405240685, sparsity loss: 2.8514187335968018, ghost_loss: 0.00020771542040165514\n"
     ]
    },
    {
     "name": "stderr",
     "output_type": "stream",
     "text": [
      "9301it [1:54:52,  2.70it/s]"
     ]
    },
    {
     "name": "stdout",
     "output_type": "stream",
     "text": [
      "step 9300 MSE loss: 0.0002129443601006642, sparsity loss: 2.836817741394043, ghost_loss: 0.00019239871471654624\n"
     ]
    },
    {
     "name": "stderr",
     "output_type": "stream",
     "text": [
      "9401it [1:57:01,  2.54it/s]"
     ]
    },
    {
     "name": "stdout",
     "output_type": "stream",
     "text": [
      "step 9400 MSE loss: 0.0002085599408019334, sparsity loss: 2.8160080909729004, ghost_loss: 0.00018961442401632667\n"
     ]
    },
    {
     "name": "stderr",
     "output_type": "stream",
     "text": [
      "9501it [1:57:37,  2.68it/s]"
     ]
    },
    {
     "name": "stdout",
     "output_type": "stream",
     "text": [
      "step 9500 MSE loss: 0.00021427814499475062, sparsity loss: 2.837462902069092, ghost_loss: 0.0001921428629430011\n"
     ]
    },
    {
     "name": "stderr",
     "output_type": "stream",
     "text": [
      "9601it [1:59:46,  2.35it/s]"
     ]
    },
    {
     "name": "stdout",
     "output_type": "stream",
     "text": [
      "step 9600 MSE loss: 0.00020876782946288586, sparsity loss: 2.838582754135132, ghost_loss: 0.00019729259656742215\n"
     ]
    },
    {
     "name": "stderr",
     "output_type": "stream",
     "text": [
      "9701it [2:00:23,  2.81it/s]"
     ]
    },
    {
     "name": "stdout",
     "output_type": "stream",
     "text": [
      "step 9700 MSE loss: 0.000199447080376558, sparsity loss: 2.8278377056121826, ghost_loss: 0.0001835107250371948\n"
     ]
    },
    {
     "name": "stderr",
     "output_type": "stream",
     "text": [
      "9801it [2:00:58,  2.72it/s]"
     ]
    },
    {
     "name": "stdout",
     "output_type": "stream",
     "text": [
      "step 9800 MSE loss: 0.00022150471340864897, sparsity loss: 2.818084716796875, ghost_loss: 0.00021046459733042866\n"
     ]
    },
    {
     "name": "stderr",
     "output_type": "stream",
     "text": [
      "9901it [2:03:06,  2.73it/s]"
     ]
    },
    {
     "name": "stdout",
     "output_type": "stream",
     "text": [
      "step 9900 MSE loss: 0.0002114340604748577, sparsity loss: 2.824843168258667, ghost_loss: 0.00019407228683121502\n"
     ]
    },
    {
     "name": "stderr",
     "output_type": "stream",
     "text": [
      "10001it [2:03:42,  2.70it/s]"
     ]
    },
    {
     "name": "stdout",
     "output_type": "stream",
     "text": [
      "step 10000 MSE loss: 0.0001882623037090525, sparsity loss: 2.8383584022521973, ghost_loss: 0.00020092143677175045\n"
     ]
    },
    {
     "name": "stderr",
     "output_type": "stream",
     "text": [
      "10101it [2:05:52,  2.51it/s]"
     ]
    },
    {
     "name": "stdout",
     "output_type": "stream",
     "text": [
      "step 10100 MSE loss: 0.00021465231839101762, sparsity loss: 2.8138833045959473, ghost_loss: 0.00020844761456828564\n"
     ]
    },
    {
     "name": "stderr",
     "output_type": "stream",
     "text": [
      "10201it [2:06:28,  2.70it/s]"
     ]
    },
    {
     "name": "stdout",
     "output_type": "stream",
     "text": [
      "step 10200 MSE loss: 0.00020855564798694104, sparsity loss: 2.8308825492858887, ghost_loss: 0.00019664362480398268\n"
     ]
    },
    {
     "name": "stderr",
     "output_type": "stream",
     "text": [
      "10301it [2:08:35,  2.25it/s]"
     ]
    },
    {
     "name": "stdout",
     "output_type": "stream",
     "text": [
      "step 10300 MSE loss: 0.0002155232068616897, sparsity loss: 2.7854065895080566, ghost_loss: 0.00020062673138454556\n"
     ]
    },
    {
     "name": "stderr",
     "output_type": "stream",
     "text": [
      "10401it [2:09:12,  2.61it/s]"
     ]
    },
    {
     "name": "stdout",
     "output_type": "stream",
     "text": [
      "step 10400 MSE loss: 0.00021756126079708338, sparsity loss: 2.821887254714966, ghost_loss: 0.0002047895104624331\n"
     ]
    },
    {
     "name": "stderr",
     "output_type": "stream",
     "text": [
      "10501it [2:09:47,  2.71it/s]"
     ]
    },
    {
     "name": "stdout",
     "output_type": "stream",
     "text": [
      "step 10500 MSE loss: 0.0002164419274777174, sparsity loss: 2.834135055541992, ghost_loss: 0.00020375329768285155\n"
     ]
    },
    {
     "name": "stderr",
     "output_type": "stream",
     "text": [
      "10601it [2:11:59,  2.51it/s]"
     ]
    },
    {
     "name": "stdout",
     "output_type": "stream",
     "text": [
      "step 10600 MSE loss: 0.00021109252702444792, sparsity loss: 2.8210132122039795, ghost_loss: 0.00018767372239381075\n"
     ]
    },
    {
     "name": "stderr",
     "output_type": "stream",
     "text": [
      "10701it [2:12:35,  2.64it/s]"
     ]
    },
    {
     "name": "stdout",
     "output_type": "stream",
     "text": [
      "step 10700 MSE loss: 0.00020826580293942243, sparsity loss: 2.8254199028015137, ghost_loss: 0.00019409935339353979\n"
     ]
    },
    {
     "name": "stderr",
     "output_type": "stream",
     "text": [
      "10801it [2:14:44,  2.56it/s]"
     ]
    },
    {
     "name": "stdout",
     "output_type": "stream",
     "text": [
      "step 10800 MSE loss: 0.00020839650824200362, sparsity loss: 2.798328161239624, ghost_loss: 0.0001877590548247099\n"
     ]
    },
    {
     "name": "stderr",
     "output_type": "stream",
     "text": [
      "10901it [2:15:21,  2.70it/s]"
     ]
    },
    {
     "name": "stdout",
     "output_type": "stream",
     "text": [
      "step 10900 MSE loss: 0.00022249796893447638, sparsity loss: 2.8068556785583496, ghost_loss: 0.00022261461708694696\n"
     ]
    },
    {
     "name": "stderr",
     "output_type": "stream",
     "text": [
      "11001it [2:15:56,  2.84it/s]"
     ]
    },
    {
     "name": "stdout",
     "output_type": "stream",
     "text": [
      "step 11000 MSE loss: 0.00020700794993899763, sparsity loss: 2.793269157409668, ghost_loss: 0.00019582074310164899\n"
     ]
    },
    {
     "name": "stderr",
     "output_type": "stream",
     "text": [
      "11101it [2:18:06,  2.74it/s]"
     ]
    },
    {
     "name": "stdout",
     "output_type": "stream",
     "text": [
      "step 11100 MSE loss: 0.00020027352729812264, sparsity loss: 2.814641237258911, ghost_loss: 0.00019844518101308495\n"
     ]
    },
    {
     "name": "stderr",
     "output_type": "stream",
     "text": [
      "11201it [2:18:41,  2.88it/s]"
     ]
    },
    {
     "name": "stdout",
     "output_type": "stream",
     "text": [
      "step 11200 MSE loss: 0.00021108798682689667, sparsity loss: 2.7997899055480957, ghost_loss: 0.00019857464940287173\n"
     ]
    },
    {
     "name": "stderr",
     "output_type": "stream",
     "text": [
      "11301it [2:20:49,  2.67it/s]"
     ]
    },
    {
     "name": "stdout",
     "output_type": "stream",
     "text": [
      "step 11300 MSE loss: 0.00021357773221097887, sparsity loss: 2.8140251636505127, ghost_loss: 0.00019162999524269253\n"
     ]
    },
    {
     "name": "stderr",
     "output_type": "stream",
     "text": [
      "11401it [2:21:25,  2.79it/s]"
     ]
    },
    {
     "name": "stdout",
     "output_type": "stream",
     "text": [
      "step 11400 MSE loss: 0.00018233599257655442, sparsity loss: 2.8203983306884766, ghost_loss: 0.00018584249482955784\n"
     ]
    },
    {
     "name": "stderr",
     "output_type": "stream",
     "text": [
      "11501it [2:23:33,  2.26it/s]"
     ]
    },
    {
     "name": "stdout",
     "output_type": "stream",
     "text": [
      "step 11500 MSE loss: 0.00021233336883597076, sparsity loss: 2.790097713470459, ghost_loss: 0.00020788193796761334\n"
     ]
    },
    {
     "name": "stderr",
     "output_type": "stream",
     "text": [
      "11601it [2:24:11,  2.77it/s]"
     ]
    },
    {
     "name": "stdout",
     "output_type": "stream",
     "text": [
      "step 11600 MSE loss: 0.000208889992791228, sparsity loss: 2.7784392833709717, ghost_loss: 0.0002077711105812341\n"
     ]
    },
    {
     "name": "stderr",
     "output_type": "stream",
     "text": [
      "11701it [2:24:47,  2.71it/s]"
     ]
    },
    {
     "name": "stdout",
     "output_type": "stream",
     "text": [
      "step 11700 MSE loss: 0.00021504076721612364, sparsity loss: 2.7907581329345703, ghost_loss: 0.00019396150310058147\n"
     ]
    },
    {
     "name": "stderr",
     "output_type": "stream",
     "text": [
      "11801it [2:26:54,  2.80it/s]"
     ]
    },
    {
     "name": "stdout",
     "output_type": "stream",
     "text": [
      "step 11800 MSE loss: 0.00020778950420208275, sparsity loss: 2.784130573272705, ghost_loss: 0.00018814259965438396\n"
     ]
    },
    {
     "name": "stderr",
     "output_type": "stream",
     "text": [
      "11901it [2:27:29,  2.82it/s]"
     ]
    },
    {
     "name": "stdout",
     "output_type": "stream",
     "text": [
      "step 11900 MSE loss: 0.00020681550086010247, sparsity loss: 2.8081002235412598, ghost_loss: 0.00018750685558188707\n"
     ]
    },
    {
     "name": "stderr",
     "output_type": "stream",
     "text": [
      "12001it [2:29:36,  2.68it/s]"
     ]
    },
    {
     "name": "stdout",
     "output_type": "stream",
     "text": [
      "step 12000 MSE loss: 0.00021047782502137125, sparsity loss: 2.7961716651916504, ghost_loss: 0.0001968104625120759\n"
     ]
    },
    {
     "name": "stderr",
     "output_type": "stream",
     "text": [
      "12101it [2:30:12,  2.75it/s]"
     ]
    },
    {
     "name": "stdout",
     "output_type": "stream",
     "text": [
      "step 12100 MSE loss: 0.00020571106870193034, sparsity loss: 2.7804131507873535, ghost_loss: 0.00019448291277512908\n"
     ]
    },
    {
     "name": "stderr",
     "output_type": "stream",
     "text": [
      "12201it [2:32:19,  9.80s/it]"
     ]
    },
    {
     "name": "stdout",
     "output_type": "stream",
     "text": [
      "step 12200 MSE loss: 0.00022365734912455082, sparsity loss: 2.8051929473876953, ghost_loss: 0.00021536342683248222\n"
     ]
    },
    {
     "name": "stderr",
     "output_type": "stream",
     "text": [
      "12301it [2:32:56,  2.65it/s]"
     ]
    },
    {
     "name": "stdout",
     "output_type": "stream",
     "text": [
      "step 12300 MSE loss: 0.0002101949357893318, sparsity loss: 2.791621446609497, ghost_loss: 0.00019984367827419192\n"
     ]
    },
    {
     "name": "stderr",
     "output_type": "stream",
     "text": [
      "12401it [2:33:32,  2.77it/s]"
     ]
    },
    {
     "name": "stdout",
     "output_type": "stream",
     "text": [
      "step 12400 MSE loss: 0.00018162894411943853, sparsity loss: 2.7957136631011963, ghost_loss: 0.00016716736718080938\n"
     ]
    },
    {
     "name": "stderr",
     "output_type": "stream",
     "text": [
      "12501it [2:35:42,  2.38it/s]"
     ]
    },
    {
     "name": "stdout",
     "output_type": "stream",
     "text": [
      "step 12500 MSE loss: 0.00020794133888557553, sparsity loss: 2.806810140609741, ghost_loss: 0.00019802765746135265\n"
     ]
    },
    {
     "name": "stderr",
     "output_type": "stream",
     "text": [
      "12601it [2:36:18,  2.71it/s]"
     ]
    },
    {
     "name": "stdout",
     "output_type": "stream",
     "text": [
      "step 12600 MSE loss: 0.00020855225739069283, sparsity loss: 2.7641899585723877, ghost_loss: 0.0001927320845425129\n"
     ]
    },
    {
     "name": "stderr",
     "output_type": "stream",
     "text": [
      "12701it [2:38:26,  2.62it/s]"
     ]
    },
    {
     "name": "stdout",
     "output_type": "stream",
     "text": [
      "step 12700 MSE loss: 0.00020598317496478558, sparsity loss: 2.7900633811950684, ghost_loss: 0.00019749921921174973\n"
     ]
    },
    {
     "name": "stderr",
     "output_type": "stream",
     "text": [
      "12801it [2:39:03,  2.67it/s]"
     ]
    },
    {
     "name": "stdout",
     "output_type": "stream",
     "text": [
      "step 12800 MSE loss: 0.0002054763026535511, sparsity loss: 2.75832462310791, ghost_loss: 0.00019690886256285012\n"
     ]
    },
    {
     "name": "stderr",
     "output_type": "stream",
     "text": [
      "12901it [2:39:38,  2.85it/s]"
     ]
    },
    {
     "name": "stdout",
     "output_type": "stream",
     "text": [
      "step 12900 MSE loss: 0.00020690209930762649, sparsity loss: 2.775487184524536, ghost_loss: 0.00019192186300642788\n"
     ]
    },
    {
     "name": "stderr",
     "output_type": "stream",
     "text": [
      "13001it [2:41:47,  2.77it/s]"
     ]
    },
    {
     "name": "stdout",
     "output_type": "stream",
     "text": [
      "step 13000 MSE loss: 0.0002066539163934067, sparsity loss: 2.7813024520874023, ghost_loss: 0.00018749742594081908\n"
     ]
    },
    {
     "name": "stderr",
     "output_type": "stream",
     "text": [
      "13101it [2:42:22,  2.69it/s]"
     ]
    },
    {
     "name": "stdout",
     "output_type": "stream",
     "text": [
      "step 13100 MSE loss: 0.00020277332805562764, sparsity loss: 2.7645645141601562, ghost_loss: 0.00018662336515262723\n"
     ]
    },
    {
     "name": "stderr",
     "output_type": "stream",
     "text": [
      "13201it [2:44:31,  2.36it/s]"
     ]
    },
    {
     "name": "stdout",
     "output_type": "stream",
     "text": [
      "step 13200 MSE loss: 0.00019928115943912417, sparsity loss: 2.7907464504241943, ghost_loss: 0.0001886328827822581\n"
     ]
    },
    {
     "name": "stderr",
     "output_type": "stream",
     "text": [
      "13301it [2:45:08,  2.68it/s]"
     ]
    },
    {
     "name": "stdout",
     "output_type": "stream",
     "text": [
      "step 13300 MSE loss: 0.00019645571592263877, sparsity loss: 2.7826168537139893, ghost_loss: 0.00018596909649204463\n"
     ]
    },
    {
     "name": "stderr",
     "output_type": "stream",
     "text": [
      "13401it [2:47:14,  2.64s/it]"
     ]
    },
    {
     "name": "stdout",
     "output_type": "stream",
     "text": [
      "step 13400 MSE loss: 0.0002057359233731404, sparsity loss: 2.767615795135498, ghost_loss: 0.00018273474415764213\n"
     ]
    },
    {
     "name": "stderr",
     "output_type": "stream",
     "text": [
      "13501it [2:47:51,  2.74it/s]"
     ]
    },
    {
     "name": "stdout",
     "output_type": "stream",
     "text": [
      "step 13500 MSE loss: 0.0001918551861308515, sparsity loss: 2.76065731048584, ghost_loss: 0.00017954836948774755\n"
     ]
    },
    {
     "name": "stderr",
     "output_type": "stream",
     "text": [
      "13601it [2:48:26,  2.71it/s]"
     ]
    },
    {
     "name": "stdout",
     "output_type": "stream",
     "text": [
      "step 13600 MSE loss: 0.00020720792235806584, sparsity loss: 2.769362688064575, ghost_loss: 0.00020036367641296238\n"
     ]
    },
    {
     "name": "stderr",
     "output_type": "stream",
     "text": [
      "13701it [2:50:38,  2.46it/s]"
     ]
    },
    {
     "name": "stdout",
     "output_type": "stream",
     "text": [
      "step 13700 MSE loss: 0.00019640701066236943, sparsity loss: 2.756222724914551, ghost_loss: 0.00018427419126965106\n"
     ]
    },
    {
     "name": "stderr",
     "output_type": "stream",
     "text": [
      "13801it [2:51:14,  2.77it/s]"
     ]
    },
    {
     "name": "stdout",
     "output_type": "stream",
     "text": [
      "step 13800 MSE loss: 0.0001984727568924427, sparsity loss: 2.761556625366211, ghost_loss: 0.0001912112202262506\n"
     ]
    },
    {
     "name": "stderr",
     "output_type": "stream",
     "text": [
      "13901it [2:53:21,  2.38it/s]"
     ]
    },
    {
     "name": "stdout",
     "output_type": "stream",
     "text": [
      "step 13900 MSE loss: 0.00019576988415792584, sparsity loss: 2.7735321521759033, ghost_loss: 0.00017861681408248842\n"
     ]
    },
    {
     "name": "stderr",
     "output_type": "stream",
     "text": [
      "14001it [2:53:58,  2.81it/s]"
     ]
    },
    {
     "name": "stdout",
     "output_type": "stream",
     "text": [
      "step 14000 MSE loss: 0.000190795908565633, sparsity loss: 2.7615859508514404, ghost_loss: 0.00017749398830346763\n"
     ]
    },
    {
     "name": "stderr",
     "output_type": "stream",
     "text": [
      "14101it [2:54:33,  2.77it/s]"
     ]
    },
    {
     "name": "stdout",
     "output_type": "stream",
     "text": [
      "step 14100 MSE loss: 0.00019915180746465921, sparsity loss: 2.7390048503875732, ghost_loss: 0.00018462528532836586\n"
     ]
    },
    {
     "name": "stderr",
     "output_type": "stream",
     "text": [
      "14110it [2:54:36,  2.92it/s]"
     ]
    }
   ],
   "source": [
    "from nnsight import LanguageModel\n",
    "from importlib import import_module\n",
    "import importlib\n",
    "# dynamically relaod imports for quicker iteration\n",
    "bu = import_module('dictionary_learning.buffer')\n",
    "tr = import_module('dictionary_learning.training')\n",
    "bu = importlib.reload(bu)\n",
    "tr = importlib.reload(tr)\n",
    "\n",
    "model = LanguageModel(\n",
    "    'jbrinkma/delphi-llama2-100k', # this can be any Huggingface model\n",
    ")\n",
    "submodule = model.model.layers[1].mlp # layer 1 MLP\n",
    "activation_dim = 48 # output dimension of the MLP\n",
    "dictionary_size = 4 * activation_dim\n",
    "\n",
    "buffer = bu.ActivationBuffer(\n",
    "    train_data_iter,\n",
    "    model,\n",
    "    submodule,\n",
    "    out_feats=activation_dim, # output dimension of the model component\n",
    ") # buffer will return batches of tensors of dimension = submodule's output dimension\n",
    "print(\"STARTING TRAINING\")\n",
    "# train the sparse autoencoder (SAE)\n",
    "ae = tr.trainSAE(\n",
    "    buffer,\n",
    "    activation_dim,\n",
    "    dictionary_size,\n",
    "    lr=3e-4,\n",
    "    sparsity_penalty=1e-3,\n",
    "    log_steps=100,\n",
    "    ghost_threshold=5000,\n",
    "    save_steps=1000,\n",
    "    save_dir='.'\n",
    ")"
   ]
  },
  {
   "cell_type": "code",
   "execution_count": null,
   "metadata": {},
   "outputs": [],
   "source": []
  },
  {
   "cell_type": "code",
   "execution_count": null,
   "metadata": {},
   "outputs": [],
   "source": []
  }
 ],
 "metadata": {
  "kernelspec": {
   "display_name": "Python 3 (ipykernel)",
   "language": "python",
   "name": "python3"
  },
  "language_info": {
   "codemirror_mode": {
    "name": "ipython",
    "version": 3
   },
   "file_extension": ".py",
   "mimetype": "text/x-python",
   "name": "python",
   "nbconvert_exporter": "python",
   "pygments_lexer": "ipython3",
   "version": "3.10.13"
  }
 },
 "nbformat": 4,
 "nbformat_minor": 4
}
